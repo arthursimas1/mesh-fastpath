{
 "cells": [
  {
   "cell_type": "code",
   "execution_count": 1,
   "id": "e39ca862-0d39-40a0-a6f9-6cab58ab04b7",
   "metadata": {
    "executionInfo": {
     "elapsed": 935,
     "status": "ok",
     "timestamp": 1680268289741,
     "user": {
      "displayName": "arthur simas",
      "userId": "04073960446793716118"
     },
     "user_tz": 180
    },
    "id": "6a258a89-0e64-4f4c-bcc2-b17deca36de8",
    "tags": []
   },
   "outputs": [],
   "source": [
    "from IPython.display import display, Markdown\n",
    "import pandas as pd\n",
    "import numpy as np\n",
    "import seaborn as sns\n",
    "import matplotlib.pyplot as plt\n",
    "import seaborn.objects as so\n",
    "import os\n",
    "import io\n",
    "\n",
    "import random\n",
    "\n",
    "random.seed(42)"
   ]
  },
  {
   "cell_type": "code",
   "execution_count": 2,
   "id": "cadd62bc-a2ea-40ce-9ad9-54a861356728",
   "metadata": {
    "executionInfo": {
     "elapsed": 935,
     "status": "ok",
     "timestamp": 1680268289741,
     "user": {
      "displayName": "arthur simas",
      "userId": "04073960446793716118"
     },
     "user_tz": 180
    },
    "id": "6a258a89-0e64-4f4c-bcc2-b17deca36de8",
    "tags": []
   },
   "outputs": [],
   "source": [
    "# set fixed order of elements in graphs\n",
    "optimization_order = ['disabled', 'enabled']\n",
    "service_mesh_order = ['none', 'cilium', 'istio-ambient', 'istio-sidecar']"
   ]
  },
  {
   "cell_type": "code",
   "execution_count": 3,
   "id": "b4246fa2-2e4c-4596-9191-8aaa2ff2270f",
   "metadata": {
    "executionInfo": {
     "elapsed": 935,
     "status": "ok",
     "timestamp": 1680268289741,
     "user": {
      "displayName": "arthur simas",
      "userId": "04073960446793716118"
     },
     "user_tz": 180
    },
    "id": "6a258a89-0e64-4f4c-bcc2-b17deca36de8",
    "tags": []
   },
   "outputs": [],
   "source": [
    "def update_legend(g, mapping):\n",
    "    for text in g.get_legend().get_texts():\n",
    "        text.set(text=mapping[text.get_text()])"
   ]
  },
  {
   "cell_type": "code",
   "execution_count": 4,
   "id": "80304cd1-b27e-4b3b-ba6e-846777b5b8f1",
   "metadata": {
    "executionInfo": {
     "elapsed": 935,
     "status": "ok",
     "timestamp": 1680268289741,
     "user": {
      "displayName": "arthur simas",
      "userId": "04073960446793716118"
     },
     "user_tz": 180
    },
    "id": "6a258a89-0e64-4f4c-bcc2-b17deca36de8",
    "tags": []
   },
   "outputs": [],
   "source": [
    "def count_decimal_places(num, remove_single_zero=False):\n",
    "    str_num = str(num)\n",
    "    if remove_single_zero and str_num.endswith('.0'):\n",
    "        return 0\n",
    "    if '.' in str_num:\n",
    "        return len(str_num) - str_num.index('.') - 1\n",
    "    else:\n",
    "        return 0"
   ]
  },
  {
   "cell_type": "code",
   "execution_count": 5,
   "id": "633642a1-faf8-4dbf-99b3-5520b24ea48e",
   "metadata": {
    "executionInfo": {
     "elapsed": 935,
     "status": "ok",
     "timestamp": 1680268289741,
     "user": {
      "displayName": "arthur simas",
      "userId": "04073960446793716118"
     },
     "user_tz": 180
    },
    "id": "6a258a89-0e64-4f4c-bcc2-b17deca36de8",
    "tags": []
   },
   "outputs": [],
   "source": [
    "def float_format(x, remove_single_zero=True):\n",
    "    return '{:.{}f}'.format(x, min(count_decimal_places(x, remove_single_zero=remove_single_zero), pd.get_option('display.precision')))"
   ]
  },
  {
   "cell_type": "code",
   "execution_count": 6,
   "id": "ee932b3c-b935-4709-a399-c5834aa7c37e",
   "metadata": {
    "colab": {
     "base_uri": "https://localhost:8080/",
     "height": 955
    },
    "executionInfo": {
     "elapsed": 20837,
     "status": "ok",
     "timestamp": 1680268310573,
     "user": {
      "displayName": "arthur simas",
      "userId": "04073960446793716118"
     },
     "user_tz": 180
    },
    "id": "2a30778c-713b-45da-b829-e3ed41eb770b",
    "outputId": "fdd46a50-134f-4ccc-c903-c39da16e1f14",
    "tags": []
   },
   "outputs": [],
   "source": [
    "def format_data_size(number, from_unit, to_unit, remove_single_decimal_zero=True):\n",
    "    convert_table = {\n",
    "        'B': 1,\n",
    "        'K': 1000,\n",
    "        'M': 1000 ** 2,\n",
    "        'G': 1000 ** 3,\n",
    "        'T': 1000 ** 4,\n",
    "        'P': 1000 ** 5,\n",
    "    }\n",
    "    if from_unit[-1] == 'B' and to_unit[-1] == 'b':\n",
    "        number *= 8\n",
    "    if from_unit[-1] == 'b' and to_unit[-1] == 'B':\n",
    "        number /= 8\n",
    "    number *= convert_table[from_unit[0].upper()]\n",
    "    number /= convert_table[to_unit[0].upper()]\n",
    "    #return float_format(number, remove_single_decimal_zero)\n",
    "    return number"
   ]
  },
  {
   "cell_type": "code",
   "execution_count": 7,
   "id": "b486f492-bf14-4c34-a269-a406913daaaf",
   "metadata": {
    "colab": {
     "base_uri": "https://localhost:8080/",
     "height": 955
    },
    "executionInfo": {
     "elapsed": 20837,
     "status": "ok",
     "timestamp": 1680268310573,
     "user": {
      "displayName": "arthur simas",
      "userId": "04073960446793716118"
     },
     "user_tz": 180
    },
    "id": "2a30778c-713b-45da-b829-e3ed41eb770b",
    "outputId": "fdd46a50-134f-4ccc-c903-c39da16e1f14",
    "tags": []
   },
   "outputs": [],
   "source": [
    "def format_time(number, from_unit, to_unit, remove_single_decimal_zero=True):\n",
    "    convert_table = {\n",
    "        'ns': 1,\n",
    "        'us': 10 ** 3,\n",
    "        'ms': 10 ** 6,\n",
    "         's': 10 ** 9,\n",
    "    }\n",
    "    number *= convert_table[from_unit]\n",
    "    number /= convert_table[to_unit]\n",
    "    #return float_format(number, remove_single_decimal_zero)\n",
    "    return number"
   ]
  },
  {
   "cell_type": "code",
   "execution_count": 8,
   "id": "f0e3c7bc-3e80-4f7a-bf3b-059936fc6e19",
   "metadata": {
    "executionInfo": {
     "elapsed": 935,
     "status": "ok",
     "timestamp": 1680268289741,
     "user": {
      "displayName": "arthur simas",
      "userId": "04073960446793716118"
     },
     "user_tz": 180
    },
    "id": "6a258a89-0e64-4f4c-bcc2-b17deca36de8",
    "tags": []
   },
   "outputs": [],
   "source": [
    "pd.set_option('display.precision', 1)\n",
    "#pd.set_option('display.float_format', float_format)\n",
    "pd.set_option('display.max_columns', None)"
   ]
  },
  {
   "cell_type": "code",
   "execution_count": 9,
   "id": "92e4a317-2604-41ce-8970-43a95443fc52",
   "metadata": {
    "executionInfo": {
     "elapsed": 935,
     "status": "ok",
     "timestamp": 1680268289741,
     "user": {
      "displayName": "arthur simas",
      "userId": "04073960446793716118"
     },
     "user_tz": 180
    },
    "id": "6a258a89-0e64-4f4c-bcc2-b17deca36de8",
    "tags": []
   },
   "outputs": [],
   "source": [
    "def print_latex(df):\n",
    "    df = df.copy()\n",
    "    df.index = pd.MultiIndex.from_tuples([(f'\\\\textit{{{a}}}' if a == 'none' else f'\\\\texttt{{{a}}}', b) for (a, b) in df.index], names=['Service Mesh', 'Mode'])\n",
    "    print(df.to_latex(float_format=float_format))"
   ]
  },
  {
   "cell_type": "code",
   "execution_count": 10,
   "id": "5254478d-3bfd-4767-8536-d8300d555a54",
   "metadata": {
    "colab": {
     "base_uri": "https://localhost:8080/",
     "height": 955
    },
    "executionInfo": {
     "elapsed": 20837,
     "status": "ok",
     "timestamp": 1680268310573,
     "user": {
      "displayName": "arthur simas",
      "userId": "04073960446793716118"
     },
     "user_tz": 180
    },
    "id": "2a30778c-713b-45da-b829-e3ed41eb770b",
    "outputId": "fdd46a50-134f-4ccc-c903-c39da16e1f14",
    "tags": []
   },
   "outputs": [],
   "source": [
    "import os\n",
    "import re\n",
    "import zipfile\n",
    "from pprint import pprint\n",
    "\n",
    "\n",
    "def logs_processing(basepath='.'):\n",
    "    files = os.listdir(basepath)\n",
    "    logs_zip_pattern = re.compile(r'logs_.*\\.zip')\n",
    "    logs_zip_files = [f for f in files if logs_zip_pattern.match(f)]\n",
    "\n",
    "    workload_log_map = {\n",
    "        'ping': 'ping-echo',\n",
    "    }\n",
    "\n",
    "    system_logs = []\n",
    "    workload_logs = {}\n",
    "\n",
    "    for zip_filename in logs_zip_files:\n",
    "        zip_filename_components = zip_filename.split('.')[0].split('_')\n",
    "\n",
    "        if len(zip_filename_components) != 4: continue\n",
    "\n",
    "        _, cni, service_mesh, optimization = zip_filename_components\n",
    "\n",
    "        with zipfile.ZipFile(os.path.join(basepath, zip_filename), 'r') as zip_ref:\n",
    "            for file in zip_ref.infolist():\n",
    "                if file.is_dir(): continue\n",
    "\n",
    "                entry = { 'cni': cni, 'service_mesh': service_mesh, 'optimization': optimization, 'workload': None, 'data': None, 'meta': {} }\n",
    "\n",
    "                filename = file.filename.replace(r'mnt/logs/', '')\n",
    "\n",
    "                ###################\n",
    "                ### system logs ###\n",
    "                ###################\n",
    "\n",
    "                ### statexec\n",
    "                if filename.startswith('statexec_metrics'):\n",
    "                    entry['workload'] = filename.split('_')[2]\n",
    "\n",
    "                    if entry['workload'] not in workload_log_map.values(): continue\n",
    "\n",
    "                    data = zip_ref.read(file).decode('utf-8')\n",
    "                    statexec_pattern = re.compile(r'(?P<metric>.*){(?P<params>.*?)} (?P<value>.+) (?P<timestamp>\\d+)')\n",
    "                    statexec_param_pattern = re.compile(r',?(?P<k>.*?)=\"(?P<v>.*?)\"')\n",
    "                    data = [statexec_pattern.match(line).groupdict() for line in data.split('\\n') if line != '' and line[0] != '#']\n",
    "                    data = [{**value, 'params': { k: v for (k, v) in statexec_param_pattern.findall(value['params']) if k not in ['instance', 'job', 'role', 'cni', 'optimization', 'service_mesh'] } } for value in data ]\n",
    "                    entry['data'] = data\n",
    "\n",
    "                    system_logs.append(entry)\n",
    "                    continue\n",
    "\n",
    "\n",
    "                #####################\n",
    "                ### workload logs ###\n",
    "                #####################\n",
    "\n",
    "                entry['workload'] = workload_log_map.get(filename.split('/')[0], None)\n",
    "\n",
    "                if entry['workload'] == 'ping-echo':\n",
    "                    data = zip_ref.read(file).decode('utf-8')\n",
    "                    entry['data'] = data\n",
    "\n",
    "                ### UNKNOWN\n",
    "                else:\n",
    "                    continue\n",
    "\n",
    "                if entry['workload'] not in workload_logs:\n",
    "                    workload_logs[entry['workload']] = []\n",
    "\n",
    "                workload_logs[entry['workload']].append(entry)\n",
    "\n",
    "    return { 'system_logs': system_logs, 'workload_logs': workload_logs }"
   ]
  },
  {
   "cell_type": "code",
   "execution_count": 11,
   "id": "1a25d6d1-dd3b-49ce-b023-81911e91d309",
   "metadata": {
    "colab": {
     "base_uri": "https://localhost:8080/",
     "height": 955
    },
    "executionInfo": {
     "elapsed": 20837,
     "status": "ok",
     "timestamp": 1680268310573,
     "user": {
      "displayName": "arthur simas",
      "userId": "04073960446793716118"
     },
     "user_tz": 180
    },
    "id": "2a30778c-713b-45da-b829-e3ed41eb770b",
    "outputId": "fdd46a50-134f-4ccc-c903-c39da16e1f14",
    "tags": []
   },
   "outputs": [],
   "source": [
    "logs = logs_processing('../workloads/')"
   ]
  },
  {
   "cell_type": "markdown",
   "id": "9d08ead4-f004-4127-9bf0-3fdd6771238d",
   "metadata": {
    "colab": {
     "base_uri": "https://localhost:8080/",
     "height": 955
    },
    "executionInfo": {
     "elapsed": 20837,
     "status": "ok",
     "timestamp": 1680268310573,
     "user": {
      "displayName": "arthur simas",
      "userId": "04073960446793716118"
     },
     "user_tz": 180
    },
    "id": "2a30778c-713b-45da-b829-e3ed41eb770b",
    "outputId": "fdd46a50-134f-4ccc-c903-c39da16e1f14",
    "tags": []
   },
   "source": [
    "# system-logs"
   ]
  },
  {
   "cell_type": "code",
   "execution_count": 12,
   "id": "9839c6c7-e586-46b2-a234-30fe47ca84c7",
   "metadata": {
    "colab": {
     "base_uri": "https://localhost:8080/",
     "height": 955
    },
    "executionInfo": {
     "elapsed": 20837,
     "status": "ok",
     "timestamp": 1680268310573,
     "user": {
      "displayName": "arthur simas",
      "userId": "04073960446793716118"
     },
     "user_tz": 180
    },
    "id": "2a30778c-713b-45da-b829-e3ed41eb770b",
    "outputId": "fdd46a50-134f-4ccc-c903-c39da16e1f14",
    "tags": []
   },
   "outputs": [],
   "source": [
    "system_logs = pd.DataFrame(logs['system_logs'])\n",
    "del system_logs['meta']\n",
    "system_logs = system_logs.explode('data').apply(lambda x: pd.concat([x.drop('data'), pd.json_normalize(x.data, sep='_').iloc[0]]), axis=1)\n",
    "system_logs = system_logs.astype({'timestamp': 'int64', 'value': 'float64'}).sort_values(by='timestamp', ignore_index=True)\n",
    "system_logs.drop_duplicates(inplace=True, ignore_index=True)"
   ]
  },
  {
   "cell_type": "code",
   "execution_count": 13,
   "id": "d93111da-c373-4016-9483-d2123d7752f5",
   "metadata": {
    "colab": {
     "base_uri": "https://localhost:8080/",
     "height": 955
    },
    "executionInfo": {
     "elapsed": 20837,
     "status": "ok",
     "timestamp": 1680268310573,
     "user": {
      "displayName": "arthur simas",
      "userId": "04073960446793716118"
     },
     "user_tz": 180
    },
    "id": "2a30778c-713b-45da-b829-e3ed41eb770b",
    "outputId": "fdd46a50-134f-4ccc-c903-c39da16e1f14",
    "tags": []
   },
   "outputs": [
    {
     "data": {
      "text/html": [
       "<div>\n",
       "<style scoped>\n",
       "    .dataframe tbody tr th:only-of-type {\n",
       "        vertical-align: middle;\n",
       "    }\n",
       "\n",
       "    .dataframe tbody tr th {\n",
       "        vertical-align: top;\n",
       "    }\n",
       "\n",
       "    .dataframe thead th {\n",
       "        text-align: right;\n",
       "    }\n",
       "</style>\n",
       "<table border=\"1\" class=\"dataframe\">\n",
       "  <thead>\n",
       "    <tr style=\"text-align: right;\">\n",
       "      <th></th>\n",
       "      <th>cni</th>\n",
       "      <th>metric</th>\n",
       "      <th>optimization</th>\n",
       "      <th>params_cpu</th>\n",
       "      <th>params_disk</th>\n",
       "      <th>params_interface</th>\n",
       "      <th>params_mode</th>\n",
       "      <th>service_mesh</th>\n",
       "      <th>timestamp</th>\n",
       "      <th>value</th>\n",
       "      <th>workload</th>\n",
       "    </tr>\n",
       "  </thead>\n",
       "  <tbody>\n",
       "    <tr>\n",
       "      <th>0</th>\n",
       "      <td>calico</td>\n",
       "      <td>statexec_memory_cached_bytes</td>\n",
       "      <td>disabled</td>\n",
       "      <td>NaN</td>\n",
       "      <td>NaN</td>\n",
       "      <td>NaN</td>\n",
       "      <td>NaN</td>\n",
       "      <td>none</td>\n",
       "      <td>1736354149117</td>\n",
       "      <td>2.6e+09</td>\n",
       "      <td>ping-echo</td>\n",
       "    </tr>\n",
       "    <tr>\n",
       "      <th>1</th>\n",
       "      <td>calico</td>\n",
       "      <td>statexec_memory_used_percent</td>\n",
       "      <td>disabled</td>\n",
       "      <td>NaN</td>\n",
       "      <td>NaN</td>\n",
       "      <td>NaN</td>\n",
       "      <td>NaN</td>\n",
       "      <td>none</td>\n",
       "      <td>1736354149117</td>\n",
       "      <td>1.6e+01</td>\n",
       "      <td>ping-echo</td>\n",
       "    </tr>\n",
       "    <tr>\n",
       "      <th>2</th>\n",
       "      <td>calico</td>\n",
       "      <td>statexec_network_sent_bytes_total</td>\n",
       "      <td>disabled</td>\n",
       "      <td>NaN</td>\n",
       "      <td>NaN</td>\n",
       "      <td>lo</td>\n",
       "      <td>NaN</td>\n",
       "      <td>none</td>\n",
       "      <td>1736354149117</td>\n",
       "      <td>3.1e+08</td>\n",
       "      <td>ping-echo</td>\n",
       "    </tr>\n",
       "    <tr>\n",
       "      <th>3</th>\n",
       "      <td>calico</td>\n",
       "      <td>statexec_network_received_bytes_total</td>\n",
       "      <td>disabled</td>\n",
       "      <td>NaN</td>\n",
       "      <td>NaN</td>\n",
       "      <td>lo</td>\n",
       "      <td>NaN</td>\n",
       "      <td>none</td>\n",
       "      <td>1736354149117</td>\n",
       "      <td>3.1e+08</td>\n",
       "      <td>ping-echo</td>\n",
       "    </tr>\n",
       "    <tr>\n",
       "      <th>4</th>\n",
       "      <td>calico</td>\n",
       "      <td>statexec_network_sent_bytes_total</td>\n",
       "      <td>disabled</td>\n",
       "      <td>NaN</td>\n",
       "      <td>NaN</td>\n",
       "      <td>cali91965474c08</td>\n",
       "      <td>NaN</td>\n",
       "      <td>none</td>\n",
       "      <td>1736354149117</td>\n",
       "      <td>3.4e+06</td>\n",
       "      <td>ping-echo</td>\n",
       "    </tr>\n",
       "  </tbody>\n",
       "</table>\n",
       "</div>"
      ],
      "text/plain": [
       "      cni                                 metric optimization params_cpu  \\\n",
       "0  calico           statexec_memory_cached_bytes     disabled        NaN   \n",
       "1  calico           statexec_memory_used_percent     disabled        NaN   \n",
       "2  calico      statexec_network_sent_bytes_total     disabled        NaN   \n",
       "3  calico  statexec_network_received_bytes_total     disabled        NaN   \n",
       "4  calico      statexec_network_sent_bytes_total     disabled        NaN   \n",
       "\n",
       "  params_disk params_interface params_mode service_mesh      timestamp  \\\n",
       "0         NaN              NaN         NaN         none  1736354149117   \n",
       "1         NaN              NaN         NaN         none  1736354149117   \n",
       "2         NaN               lo         NaN         none  1736354149117   \n",
       "3         NaN               lo         NaN         none  1736354149117   \n",
       "4         NaN  cali91965474c08         NaN         none  1736354149117   \n",
       "\n",
       "     value   workload  \n",
       "0  2.6e+09  ping-echo  \n",
       "1  1.6e+01  ping-echo  \n",
       "2  3.1e+08  ping-echo  \n",
       "3  3.1e+08  ping-echo  \n",
       "4  3.4e+06  ping-echo  "
      ]
     },
     "execution_count": 13,
     "metadata": {},
     "output_type": "execute_result"
    }
   ],
   "source": [
    "system_logs.head()"
   ]
  },
  {
   "cell_type": "code",
   "execution_count": 14,
   "id": "8b047529-4a03-4ebb-b8f0-2c1c792eb219",
   "metadata": {
    "colab": {
     "base_uri": "https://localhost:8080/",
     "height": 955
    },
    "executionInfo": {
     "elapsed": 20837,
     "status": "ok",
     "timestamp": 1680268310573,
     "user": {
      "displayName": "arthur simas",
      "userId": "04073960446793716118"
     },
     "user_tz": 180
    },
    "id": "2a30778c-713b-45da-b829-e3ed41eb770b",
    "outputId": "fdd46a50-134f-4ccc-c903-c39da16e1f14",
    "tags": []
   },
   "outputs": [
    {
     "data": {
      "text/plain": [
       "['statexec_command_status',\n",
       " 'statexec_cpu_seconds_total',\n",
       " 'statexec_disk_read_bytes_total',\n",
       " 'statexec_disk_write_bytes_total',\n",
       " 'statexec_memory_available_bytes',\n",
       " 'statexec_memory_buffers_bytes',\n",
       " 'statexec_memory_cached_bytes',\n",
       " 'statexec_memory_free_bytes',\n",
       " 'statexec_memory_total_bytes',\n",
       " 'statexec_memory_used_bytes',\n",
       " 'statexec_memory_used_percent',\n",
       " 'statexec_metric_collect_duration_ms',\n",
       " 'statexec_network_received_bytes_total',\n",
       " 'statexec_network_sent_bytes_total',\n",
       " 'statexec_statexec_time_since_start_ms',\n",
       " 'statexec_summary_cpu_cores',\n",
       " 'statexec_summary_cpu_mean_seconds',\n",
       " 'statexec_summary_disk_mean_read_bytes_per_second',\n",
       " 'statexec_summary_disk_mean_write_bytes_per_second',\n",
       " 'statexec_summary_memory_buffers_bytes',\n",
       " 'statexec_summary_memory_cached_bytes',\n",
       " 'statexec_summary_memory_free_bytes',\n",
       " 'statexec_summary_memory_total_bytes',\n",
       " 'statexec_summary_memory_used_bytes',\n",
       " 'statexec_summary_network_mean_received_bytes_per_second',\n",
       " 'statexec_summary_network_mean_sent_bytes_per_second']"
      ]
     },
     "execution_count": 14,
     "metadata": {},
     "output_type": "execute_result"
    }
   ],
   "source": [
    "sorted(system_logs.metric.unique())"
   ]
  },
  {
   "cell_type": "code",
   "execution_count": 15,
   "id": "4e453d19-920e-4dc8-8fa2-44abaafe5996",
   "metadata": {
    "colab": {
     "base_uri": "https://localhost:8080/",
     "height": 955
    },
    "executionInfo": {
     "elapsed": 20837,
     "status": "ok",
     "timestamp": 1680268310573,
     "user": {
      "displayName": "arthur simas",
      "userId": "04073960446793716118"
     },
     "user_tz": 180
    },
    "id": "2a30778c-713b-45da-b829-e3ed41eb770b",
    "outputId": "fdd46a50-134f-4ccc-c903-c39da16e1f14",
    "tags": []
   },
   "outputs": [
    {
     "data": {
      "text/plain": [
       "['guest',\n",
       " 'guestNice',\n",
       " 'idle',\n",
       " 'iowait',\n",
       " 'irq',\n",
       " 'nice',\n",
       " 'softirq',\n",
       " 'steal',\n",
       " 'system',\n",
       " 'user']"
      ]
     },
     "execution_count": 15,
     "metadata": {},
     "output_type": "execute_result"
    }
   ],
   "source": [
    "sorted(system_logs[system_logs.metric.eq('statexec_cpu_seconds_total')].params_mode.unique())"
   ]
  },
  {
   "cell_type": "code",
   "execution_count": 16,
   "id": "989462c2-30a8-472a-9f04-38fc64304ebd",
   "metadata": {
    "colab": {
     "base_uri": "https://localhost:8080/",
     "height": 955
    },
    "executionInfo": {
     "elapsed": 20837,
     "status": "ok",
     "timestamp": 1680268310573,
     "user": {
      "displayName": "arthur simas",
      "userId": "04073960446793716118"
     },
     "user_tz": 180
    },
    "id": "2a30778c-713b-45da-b829-e3ed41eb770b",
    "outputId": "fdd46a50-134f-4ccc-c903-c39da16e1f14",
    "tags": []
   },
   "outputs": [
    {
     "data": {
      "text/plain": [
       "81536    936039.0\n",
       "14888    817911.0\n",
       "62256    711158.0\n",
       "43676    657175.0\n",
       "8774     501725.0\n",
       "74166    493310.0\n",
       "90608    491172.0\n",
       "766        1000.0\n",
       "71066      1000.0\n",
       "49564      1000.0\n",
       "52732      1000.0\n",
       "70168      1000.0\n",
       "53788      1000.0\n",
       "79468      1000.0\n",
       "67558      1000.0\n",
       "41808      1000.0\n",
       "83958      1000.0\n",
       "23240      1000.0\n",
       "76498      1000.0\n",
       "8942       1000.0\n",
       "29488      1000.0\n",
       "67198      1000.0\n",
       "77038      1000.0\n",
       "81978      1000.0\n",
       "26320      1000.0\n",
       "Name: timestamp, dtype: float64"
      ]
     },
     "execution_count": 16,
     "metadata": {},
     "output_type": "execute_result"
    }
   ],
   "source": [
    "system_logs.timestamp.diff().abs().sort_values(ascending=False)[:25]"
   ]
  },
  {
   "cell_type": "code",
   "execution_count": 17,
   "id": "a4a03976-b04c-4449-b952-50adc68eff00",
   "metadata": {
    "colab": {
     "base_uri": "https://localhost:8080/",
     "height": 955
    },
    "executionInfo": {
     "elapsed": 20837,
     "status": "ok",
     "timestamp": 1680268310573,
     "user": {
      "displayName": "arthur simas",
      "userId": "04073960446793716118"
     },
     "user_tz": 180
    },
    "id": "2a30778c-713b-45da-b829-e3ed41eb770b",
    "outputId": "fdd46a50-134f-4ccc-c903-c39da16e1f14",
    "tags": []
   },
   "outputs": [],
   "source": [
    "system_logs['x'] = (system_logs.timestamp.diff().abs().gt(40_000).cumsum() + 1).astype(str)\n",
    "start_point = system_logs.groupby('x')['timestamp'].transform(lambda x: x.min())\n",
    "system_logs['elapsed'] = system_logs.timestamp - start_point"
   ]
  },
  {
   "cell_type": "code",
   "execution_count": 18,
   "id": "eabb1f7e-c058-4d3b-9672-3e424aaa4601",
   "metadata": {
    "colab": {
     "base_uri": "https://localhost:8080/",
     "height": 955
    },
    "executionInfo": {
     "elapsed": 20837,
     "status": "ok",
     "timestamp": 1680268310573,
     "user": {
      "displayName": "arthur simas",
      "userId": "04073960446793716118"
     },
     "user_tz": 180
    },
    "id": "2a30778c-713b-45da-b829-e3ed41eb770b",
    "outputId": "fdd46a50-134f-4ccc-c903-c39da16e1f14",
    "tags": []
   },
   "outputs": [
    {
     "data": {
      "text/html": [
       "<div>\n",
       "<style scoped>\n",
       "    .dataframe tbody tr th:only-of-type {\n",
       "        vertical-align: middle;\n",
       "    }\n",
       "\n",
       "    .dataframe tbody tr th {\n",
       "        vertical-align: top;\n",
       "    }\n",
       "\n",
       "    .dataframe thead th {\n",
       "        text-align: right;\n",
       "    }\n",
       "</style>\n",
       "<table border=\"1\" class=\"dataframe\">\n",
       "  <thead>\n",
       "    <tr style=\"text-align: right;\">\n",
       "      <th></th>\n",
       "      <th>workload</th>\n",
       "      <th>service_mesh</th>\n",
       "      <th>optimization</th>\n",
       "      <th>timestamp</th>\n",
       "      <th>elapsed</th>\n",
       "      <th>value</th>\n",
       "    </tr>\n",
       "  </thead>\n",
       "  <tbody>\n",
       "    <tr>\n",
       "      <th>0</th>\n",
       "      <td>ping-echo</td>\n",
       "      <td>cilium</td>\n",
       "      <td>disabled</td>\n",
       "      <td>1736359175435</td>\n",
       "      <td>0</td>\n",
       "      <td>329.6</td>\n",
       "    </tr>\n",
       "    <tr>\n",
       "      <th>1</th>\n",
       "      <td>ping-echo</td>\n",
       "      <td>cilium</td>\n",
       "      <td>disabled</td>\n",
       "      <td>1736359175445</td>\n",
       "      <td>10</td>\n",
       "      <td>329.7</td>\n",
       "    </tr>\n",
       "    <tr>\n",
       "      <th>2</th>\n",
       "      <td>ping-echo</td>\n",
       "      <td>cilium</td>\n",
       "      <td>disabled</td>\n",
       "      <td>1736359176435</td>\n",
       "      <td>1000</td>\n",
       "      <td>332.0</td>\n",
       "    </tr>\n",
       "    <tr>\n",
       "      <th>3</th>\n",
       "      <td>ping-echo</td>\n",
       "      <td>cilium</td>\n",
       "      <td>disabled</td>\n",
       "      <td>1736359177435</td>\n",
       "      <td>2000</td>\n",
       "      <td>332.3</td>\n",
       "    </tr>\n",
       "    <tr>\n",
       "      <th>4</th>\n",
       "      <td>ping-echo</td>\n",
       "      <td>cilium</td>\n",
       "      <td>disabled</td>\n",
       "      <td>1736359178435</td>\n",
       "      <td>3000</td>\n",
       "      <td>333.4</td>\n",
       "    </tr>\n",
       "    <tr>\n",
       "      <th>...</th>\n",
       "      <td>...</td>\n",
       "      <td>...</td>\n",
       "      <td>...</td>\n",
       "      <td>...</td>\n",
       "      <td>...</td>\n",
       "      <td>...</td>\n",
       "    </tr>\n",
       "    <tr>\n",
       "      <th>1094</th>\n",
       "      <td>ping-echo</td>\n",
       "      <td>none</td>\n",
       "      <td>enabled</td>\n",
       "      <td>1736354815842</td>\n",
       "      <td>66000</td>\n",
       "      <td>1509.7</td>\n",
       "    </tr>\n",
       "    <tr>\n",
       "      <th>1095</th>\n",
       "      <td>ping-echo</td>\n",
       "      <td>none</td>\n",
       "      <td>enabled</td>\n",
       "      <td>1736354816735</td>\n",
       "      <td>66893</td>\n",
       "      <td>1510.3</td>\n",
       "    </tr>\n",
       "    <tr>\n",
       "      <th>1096</th>\n",
       "      <td>ping-echo</td>\n",
       "      <td>none</td>\n",
       "      <td>enabled</td>\n",
       "      <td>1736354816842</td>\n",
       "      <td>67000</td>\n",
       "      <td>1510.3</td>\n",
       "    </tr>\n",
       "    <tr>\n",
       "      <th>1097</th>\n",
       "      <td>ping-echo</td>\n",
       "      <td>none</td>\n",
       "      <td>enabled</td>\n",
       "      <td>1736354817842</td>\n",
       "      <td>68000</td>\n",
       "      <td>1510.9</td>\n",
       "    </tr>\n",
       "    <tr>\n",
       "      <th>1098</th>\n",
       "      <td>ping-echo</td>\n",
       "      <td>none</td>\n",
       "      <td>enabled</td>\n",
       "      <td>1736354818842</td>\n",
       "      <td>69000</td>\n",
       "      <td>1511.2</td>\n",
       "    </tr>\n",
       "  </tbody>\n",
       "</table>\n",
       "<p>1099 rows × 6 columns</p>\n",
       "</div>"
      ],
      "text/plain": [
       "       workload service_mesh optimization      timestamp  elapsed   value\n",
       "0     ping-echo       cilium     disabled  1736359175435        0   329.6\n",
       "1     ping-echo       cilium     disabled  1736359175445       10   329.7\n",
       "2     ping-echo       cilium     disabled  1736359176435     1000   332.0\n",
       "3     ping-echo       cilium     disabled  1736359177435     2000   332.3\n",
       "4     ping-echo       cilium     disabled  1736359178435     3000   333.4\n",
       "...         ...          ...          ...            ...      ...     ...\n",
       "1094  ping-echo         none      enabled  1736354815842    66000  1509.7\n",
       "1095  ping-echo         none      enabled  1736354816735    66893  1510.3\n",
       "1096  ping-echo         none      enabled  1736354816842    67000  1510.3\n",
       "1097  ping-echo         none      enabled  1736354817842    68000  1510.9\n",
       "1098  ping-echo         none      enabled  1736354818842    69000  1511.2\n",
       "\n",
       "[1099 rows x 6 columns]"
      ]
     },
     "execution_count": 18,
     "metadata": {},
     "output_type": "execute_result"
    }
   ],
   "source": [
    "cpu_seconds_cum = system_logs[\n",
    "    (system_logs['metric'] == 'statexec_cpu_seconds_total') &\n",
    "    (system_logs['params_mode'].isin(['user', 'system']))\n",
    "].groupby(['workload', 'service_mesh', 'optimization', 'timestamp', 'elapsed'])['value'].sum().reset_index()\n",
    "\n",
    "cpu_seconds_cum"
   ]
  },
  {
   "cell_type": "code",
   "execution_count": 19,
   "id": "b2253e72-9392-4b67-b73f-12acc9755c54",
   "metadata": {
    "colab": {
     "base_uri": "https://localhost:8080/",
     "height": 955
    },
    "executionInfo": {
     "elapsed": 20837,
     "status": "ok",
     "timestamp": 1680268310573,
     "user": {
      "displayName": "arthur simas",
      "userId": "04073960446793716118"
     },
     "user_tz": 180
    },
    "id": "2a30778c-713b-45da-b829-e3ed41eb770b",
    "outputId": "fdd46a50-134f-4ccc-c903-c39da16e1f14",
    "tags": []
   },
   "outputs": [
    {
     "data": {
      "text/html": [
       "<div>\n",
       "<style scoped>\n",
       "    .dataframe tbody tr th:only-of-type {\n",
       "        vertical-align: middle;\n",
       "    }\n",
       "\n",
       "    .dataframe tbody tr th {\n",
       "        vertical-align: top;\n",
       "    }\n",
       "\n",
       "    .dataframe thead th {\n",
       "        text-align: right;\n",
       "    }\n",
       "</style>\n",
       "<table border=\"1\" class=\"dataframe\">\n",
       "  <thead>\n",
       "    <tr style=\"text-align: right;\">\n",
       "      <th></th>\n",
       "      <th>workload</th>\n",
       "      <th>service_mesh</th>\n",
       "      <th>optimization</th>\n",
       "      <th>value</th>\n",
       "    </tr>\n",
       "  </thead>\n",
       "  <tbody>\n",
       "    <tr>\n",
       "      <th>0</th>\n",
       "      <td>ping-echo</td>\n",
       "      <td>cilium</td>\n",
       "      <td>disabled</td>\n",
       "      <td>104.9</td>\n",
       "    </tr>\n",
       "    <tr>\n",
       "      <th>1</th>\n",
       "      <td>ping-echo</td>\n",
       "      <td>cilium</td>\n",
       "      <td>enabled</td>\n",
       "      <td>92.3</td>\n",
       "    </tr>\n",
       "    <tr>\n",
       "      <th>2</th>\n",
       "      <td>ping-echo</td>\n",
       "      <td>istio-ambient</td>\n",
       "      <td>disabled</td>\n",
       "      <td>132.2</td>\n",
       "    </tr>\n",
       "    <tr>\n",
       "      <th>3</th>\n",
       "      <td>ping-echo</td>\n",
       "      <td>istio-ambient</td>\n",
       "      <td>enabled</td>\n",
       "      <td>103.2</td>\n",
       "    </tr>\n",
       "    <tr>\n",
       "      <th>4</th>\n",
       "      <td>ping-echo</td>\n",
       "      <td>istio-sidecar</td>\n",
       "      <td>disabled</td>\n",
       "      <td>357.8</td>\n",
       "    </tr>\n",
       "    <tr>\n",
       "      <th>5</th>\n",
       "      <td>ping-echo</td>\n",
       "      <td>istio-sidecar</td>\n",
       "      <td>enabled</td>\n",
       "      <td>274.7</td>\n",
       "    </tr>\n",
       "    <tr>\n",
       "      <th>6</th>\n",
       "      <td>ping-echo</td>\n",
       "      <td>none</td>\n",
       "      <td>disabled</td>\n",
       "      <td>110.5</td>\n",
       "    </tr>\n",
       "    <tr>\n",
       "      <th>7</th>\n",
       "      <td>ping-echo</td>\n",
       "      <td>none</td>\n",
       "      <td>enabled</td>\n",
       "      <td>92.6</td>\n",
       "    </tr>\n",
       "  </tbody>\n",
       "</table>\n",
       "</div>"
      ],
      "text/plain": [
       "    workload   service_mesh optimization  value\n",
       "0  ping-echo         cilium     disabled  104.9\n",
       "1  ping-echo         cilium      enabled   92.3\n",
       "2  ping-echo  istio-ambient     disabled  132.2\n",
       "3  ping-echo  istio-ambient      enabled  103.2\n",
       "4  ping-echo  istio-sidecar     disabled  357.8\n",
       "5  ping-echo  istio-sidecar      enabled  274.7\n",
       "6  ping-echo           none     disabled  110.5\n",
       "7  ping-echo           none      enabled   92.6"
      ]
     },
     "execution_count": 19,
     "metadata": {},
     "output_type": "execute_result"
    }
   ],
   "source": [
    "cpu_seconds_usage = cpu_seconds_cum.groupby(['workload', 'service_mesh', 'optimization'])['value'].agg(\n",
    "    value=lambda x: np.ptp(x),\n",
    ").reset_index()\n",
    "\n",
    "cpu_seconds_usage"
   ]
  },
  {
   "cell_type": "code",
   "execution_count": 20,
   "id": "56a90e79-c9a5-4a13-9237-29799384b8c3",
   "metadata": {
    "colab": {
     "base_uri": "https://localhost:8080/",
     "height": 955
    },
    "executionInfo": {
     "elapsed": 20837,
     "status": "ok",
     "timestamp": 1680268310573,
     "user": {
      "displayName": "arthur simas",
      "userId": "04073960446793716118"
     },
     "user_tz": 180
    },
    "id": "2a30778c-713b-45da-b829-e3ed41eb770b",
    "outputId": "fdd46a50-134f-4ccc-c903-c39da16e1f14",
    "tags": []
   },
   "outputs": [
    {
     "data": {
      "text/html": [
       "<div>\n",
       "<style scoped>\n",
       "    .dataframe tbody tr th:only-of-type {\n",
       "        vertical-align: middle;\n",
       "    }\n",
       "\n",
       "    .dataframe tbody tr th {\n",
       "        vertical-align: top;\n",
       "    }\n",
       "\n",
       "    .dataframe thead th {\n",
       "        text-align: right;\n",
       "    }\n",
       "</style>\n",
       "<table border=\"1\" class=\"dataframe\">\n",
       "  <thead>\n",
       "    <tr style=\"text-align: right;\">\n",
       "      <th></th>\n",
       "      <th>cni</th>\n",
       "      <th>metric</th>\n",
       "      <th>optimization</th>\n",
       "      <th>params_cpu</th>\n",
       "      <th>params_disk</th>\n",
       "      <th>params_interface</th>\n",
       "      <th>params_mode</th>\n",
       "      <th>service_mesh</th>\n",
       "      <th>timestamp</th>\n",
       "      <th>value</th>\n",
       "      <th>workload</th>\n",
       "      <th>x</th>\n",
       "      <th>elapsed</th>\n",
       "    </tr>\n",
       "  </thead>\n",
       "  <tbody>\n",
       "    <tr>\n",
       "      <th>22</th>\n",
       "      <td>calico</td>\n",
       "      <td>statexec_memory_used_bytes</td>\n",
       "      <td>disabled</td>\n",
       "      <td>NaN</td>\n",
       "      <td>NaN</td>\n",
       "      <td>NaN</td>\n",
       "      <td>NaN</td>\n",
       "      <td>none</td>\n",
       "      <td>1736354149117</td>\n",
       "      <td>1.3e+09</td>\n",
       "      <td>ping-echo</td>\n",
       "      <td>1</td>\n",
       "      <td>0</td>\n",
       "    </tr>\n",
       "    <tr>\n",
       "      <th>108</th>\n",
       "      <td>calico</td>\n",
       "      <td>statexec_memory_used_bytes</td>\n",
       "      <td>disabled</td>\n",
       "      <td>NaN</td>\n",
       "      <td>NaN</td>\n",
       "      <td>NaN</td>\n",
       "      <td>NaN</td>\n",
       "      <td>none</td>\n",
       "      <td>1736354149120</td>\n",
       "      <td>1.3e+09</td>\n",
       "      <td>ping-echo</td>\n",
       "      <td>1</td>\n",
       "      <td>3</td>\n",
       "    </tr>\n",
       "    <tr>\n",
       "      <th>210</th>\n",
       "      <td>calico</td>\n",
       "      <td>statexec_memory_used_bytes</td>\n",
       "      <td>disabled</td>\n",
       "      <td>NaN</td>\n",
       "      <td>NaN</td>\n",
       "      <td>NaN</td>\n",
       "      <td>NaN</td>\n",
       "      <td>none</td>\n",
       "      <td>1736354150117</td>\n",
       "      <td>1.4e+09</td>\n",
       "      <td>ping-echo</td>\n",
       "      <td>1</td>\n",
       "      <td>1000</td>\n",
       "    </tr>\n",
       "    <tr>\n",
       "      <th>328</th>\n",
       "      <td>calico</td>\n",
       "      <td>statexec_memory_used_bytes</td>\n",
       "      <td>disabled</td>\n",
       "      <td>NaN</td>\n",
       "      <td>NaN</td>\n",
       "      <td>NaN</td>\n",
       "      <td>NaN</td>\n",
       "      <td>none</td>\n",
       "      <td>1736354151117</td>\n",
       "      <td>1.3e+09</td>\n",
       "      <td>ping-echo</td>\n",
       "      <td>1</td>\n",
       "      <td>2000</td>\n",
       "    </tr>\n",
       "    <tr>\n",
       "      <th>411</th>\n",
       "      <td>calico</td>\n",
       "      <td>statexec_memory_used_bytes</td>\n",
       "      <td>disabled</td>\n",
       "      <td>NaN</td>\n",
       "      <td>NaN</td>\n",
       "      <td>NaN</td>\n",
       "      <td>NaN</td>\n",
       "      <td>none</td>\n",
       "      <td>1736354152117</td>\n",
       "      <td>1.3e+09</td>\n",
       "      <td>ping-echo</td>\n",
       "      <td>1</td>\n",
       "      <td>3000</td>\n",
       "    </tr>\n",
       "    <tr>\n",
       "      <th>...</th>\n",
       "      <td>...</td>\n",
       "      <td>...</td>\n",
       "      <td>...</td>\n",
       "      <td>...</td>\n",
       "      <td>...</td>\n",
       "      <td>...</td>\n",
       "      <td>...</td>\n",
       "      <td>...</td>\n",
       "      <td>...</td>\n",
       "      <td>...</td>\n",
       "      <td>...</td>\n",
       "      <td>...</td>\n",
       "      <td>...</td>\n",
       "    </tr>\n",
       "    <tr>\n",
       "      <th>96692</th>\n",
       "      <td>cilium</td>\n",
       "      <td>statexec_memory_used_bytes</td>\n",
       "      <td>enabled</td>\n",
       "      <td>NaN</td>\n",
       "      <td>NaN</td>\n",
       "      <td>NaN</td>\n",
       "      <td>NaN</td>\n",
       "      <td>cilium</td>\n",
       "      <td>1736359831607</td>\n",
       "      <td>1.4e+09</td>\n",
       "      <td>ping-echo</td>\n",
       "      <td>8</td>\n",
       "      <td>67000</td>\n",
       "    </tr>\n",
       "    <tr>\n",
       "      <th>96806</th>\n",
       "      <td>cilium</td>\n",
       "      <td>statexec_memory_used_bytes</td>\n",
       "      <td>enabled</td>\n",
       "      <td>NaN</td>\n",
       "      <td>NaN</td>\n",
       "      <td>NaN</td>\n",
       "      <td>NaN</td>\n",
       "      <td>cilium</td>\n",
       "      <td>1736359832338</td>\n",
       "      <td>1.3e+09</td>\n",
       "      <td>ping-echo</td>\n",
       "      <td>8</td>\n",
       "      <td>67731</td>\n",
       "    </tr>\n",
       "    <tr>\n",
       "      <th>96857</th>\n",
       "      <td>cilium</td>\n",
       "      <td>statexec_memory_used_bytes</td>\n",
       "      <td>enabled</td>\n",
       "      <td>NaN</td>\n",
       "      <td>NaN</td>\n",
       "      <td>NaN</td>\n",
       "      <td>NaN</td>\n",
       "      <td>cilium</td>\n",
       "      <td>1736359832607</td>\n",
       "      <td>1.3e+09</td>\n",
       "      <td>ping-echo</td>\n",
       "      <td>8</td>\n",
       "      <td>68000</td>\n",
       "    </tr>\n",
       "    <tr>\n",
       "      <th>96984</th>\n",
       "      <td>cilium</td>\n",
       "      <td>statexec_memory_used_bytes</td>\n",
       "      <td>enabled</td>\n",
       "      <td>NaN</td>\n",
       "      <td>NaN</td>\n",
       "      <td>NaN</td>\n",
       "      <td>NaN</td>\n",
       "      <td>cilium</td>\n",
       "      <td>1736359833607</td>\n",
       "      <td>1.3e+09</td>\n",
       "      <td>ping-echo</td>\n",
       "      <td>8</td>\n",
       "      <td>69000</td>\n",
       "    </tr>\n",
       "    <tr>\n",
       "      <th>97079</th>\n",
       "      <td>cilium</td>\n",
       "      <td>statexec_memory_used_bytes</td>\n",
       "      <td>enabled</td>\n",
       "      <td>NaN</td>\n",
       "      <td>NaN</td>\n",
       "      <td>NaN</td>\n",
       "      <td>NaN</td>\n",
       "      <td>cilium</td>\n",
       "      <td>1736359834607</td>\n",
       "      <td>1.3e+09</td>\n",
       "      <td>ping-echo</td>\n",
       "      <td>8</td>\n",
       "      <td>70000</td>\n",
       "    </tr>\n",
       "  </tbody>\n",
       "</table>\n",
       "<p>1099 rows × 13 columns</p>\n",
       "</div>"
      ],
      "text/plain": [
       "          cni                      metric optimization params_cpu params_disk  \\\n",
       "22     calico  statexec_memory_used_bytes     disabled        NaN         NaN   \n",
       "108    calico  statexec_memory_used_bytes     disabled        NaN         NaN   \n",
       "210    calico  statexec_memory_used_bytes     disabled        NaN         NaN   \n",
       "328    calico  statexec_memory_used_bytes     disabled        NaN         NaN   \n",
       "411    calico  statexec_memory_used_bytes     disabled        NaN         NaN   \n",
       "...       ...                         ...          ...        ...         ...   \n",
       "96692  cilium  statexec_memory_used_bytes      enabled        NaN         NaN   \n",
       "96806  cilium  statexec_memory_used_bytes      enabled        NaN         NaN   \n",
       "96857  cilium  statexec_memory_used_bytes      enabled        NaN         NaN   \n",
       "96984  cilium  statexec_memory_used_bytes      enabled        NaN         NaN   \n",
       "97079  cilium  statexec_memory_used_bytes      enabled        NaN         NaN   \n",
       "\n",
       "      params_interface params_mode service_mesh      timestamp    value  \\\n",
       "22                 NaN         NaN         none  1736354149117  1.3e+09   \n",
       "108                NaN         NaN         none  1736354149120  1.3e+09   \n",
       "210                NaN         NaN         none  1736354150117  1.4e+09   \n",
       "328                NaN         NaN         none  1736354151117  1.3e+09   \n",
       "411                NaN         NaN         none  1736354152117  1.3e+09   \n",
       "...                ...         ...          ...            ...      ...   \n",
       "96692              NaN         NaN       cilium  1736359831607  1.4e+09   \n",
       "96806              NaN         NaN       cilium  1736359832338  1.3e+09   \n",
       "96857              NaN         NaN       cilium  1736359832607  1.3e+09   \n",
       "96984              NaN         NaN       cilium  1736359833607  1.3e+09   \n",
       "97079              NaN         NaN       cilium  1736359834607  1.3e+09   \n",
       "\n",
       "        workload  x  elapsed  \n",
       "22     ping-echo  1        0  \n",
       "108    ping-echo  1        3  \n",
       "210    ping-echo  1     1000  \n",
       "328    ping-echo  1     2000  \n",
       "411    ping-echo  1     3000  \n",
       "...          ... ..      ...  \n",
       "96692  ping-echo  8    67000  \n",
       "96806  ping-echo  8    67731  \n",
       "96857  ping-echo  8    68000  \n",
       "96984  ping-echo  8    69000  \n",
       "97079  ping-echo  8    70000  \n",
       "\n",
       "[1099 rows x 13 columns]"
      ]
     },
     "execution_count": 20,
     "metadata": {},
     "output_type": "execute_result"
    }
   ],
   "source": [
    "memory_used_bytes = system_logs[system_logs.metric.eq('statexec_memory_used_bytes')]\n",
    "memory_used_bytes"
   ]
  },
  {
   "cell_type": "markdown",
   "id": "8e74a0e8-6147-4ade-a4dc-42cc6bd87151",
   "metadata": {
    "colab": {
     "base_uri": "https://localhost:8080/",
     "height": 955
    },
    "executionInfo": {
     "elapsed": 20837,
     "status": "ok",
     "timestamp": 1680268310573,
     "user": {
      "displayName": "arthur simas",
      "userId": "04073960446793716118"
     },
     "user_tz": 180
    },
    "id": "2a30778c-713b-45da-b829-e3ed41eb770b",
    "outputId": "fdd46a50-134f-4ccc-c903-c39da16e1f14",
    "tags": []
   },
   "source": [
    "# ping-echo"
   ]
  },
  {
   "cell_type": "code",
   "execution_count": 21,
   "id": "512cdc2a-47f7-485a-9478-d7841916f9d5",
   "metadata": {
    "colab": {
     "base_uri": "https://localhost:8080/",
     "height": 955
    },
    "executionInfo": {
     "elapsed": 20837,
     "status": "ok",
     "timestamp": 1680268310573,
     "user": {
      "displayName": "arthur simas",
      "userId": "04073960446793716118"
     },
     "user_tz": 180
    },
    "id": "2a30778c-713b-45da-b829-e3ed41eb770b",
    "outputId": "fdd46a50-134f-4ccc-c903-c39da16e1f14",
    "tags": []
   },
   "outputs": [],
   "source": [
    "ping_echo = pd.DataFrame(logs['workload_logs']['ping-echo'])\n",
    "del ping_echo['meta']\n",
    "ping_echo = ping_echo.apply(lambda x: x.drop('data').to_frame().T.join(pd.read_csv(io.StringIO(x.data)), how='cross'), axis=1)\n",
    "ping_echo = pd.concat(ping_echo.tolist(), ignore_index=True)\n",
    "ping_echo['latency'] = ping_echo['end'] - ping_echo['start']\n",
    "ping_echo['RPS'] = 1e9 / ping_echo['latency']"
   ]
  },
  {
   "cell_type": "code",
   "execution_count": 22,
   "id": "1f8dbd80-ab10-4f88-91a6-5a0772f6cd72",
   "metadata": {
    "colab": {
     "base_uri": "https://localhost:8080/",
     "height": 955
    },
    "executionInfo": {
     "elapsed": 20837,
     "status": "ok",
     "timestamp": 1680268310573,
     "user": {
      "displayName": "arthur simas",
      "userId": "04073960446793716118"
     },
     "user_tz": 180
    },
    "id": "2a30778c-713b-45da-b829-e3ed41eb770b",
    "outputId": "fdd46a50-134f-4ccc-c903-c39da16e1f14",
    "tags": []
   },
   "outputs": [
    {
     "data": {
      "text/html": [
       "<div>\n",
       "<style scoped>\n",
       "    .dataframe tbody tr th:only-of-type {\n",
       "        vertical-align: middle;\n",
       "    }\n",
       "\n",
       "    .dataframe tbody tr th {\n",
       "        vertical-align: top;\n",
       "    }\n",
       "\n",
       "    .dataframe thead th {\n",
       "        text-align: right;\n",
       "    }\n",
       "</style>\n",
       "<table border=\"1\" class=\"dataframe\">\n",
       "  <thead>\n",
       "    <tr style=\"text-align: right;\">\n",
       "      <th></th>\n",
       "      <th>cni</th>\n",
       "      <th>service_mesh</th>\n",
       "      <th>optimization</th>\n",
       "      <th>workload</th>\n",
       "      <th>run</th>\n",
       "      <th>start</th>\n",
       "      <th>end</th>\n",
       "      <th>latency</th>\n",
       "      <th>RPS</th>\n",
       "    </tr>\n",
       "  </thead>\n",
       "  <tbody>\n",
       "    <tr>\n",
       "      <th>0</th>\n",
       "      <td>calico</td>\n",
       "      <td>istio-ambient</td>\n",
       "      <td>disabled</td>\n",
       "      <td>ping-echo</td>\n",
       "      <td>0</td>\n",
       "      <td>1736357548673463663</td>\n",
       "      <td>1736357548673984875</td>\n",
       "      <td>521212</td>\n",
       "      <td>1918.6</td>\n",
       "    </tr>\n",
       "    <tr>\n",
       "      <th>1</th>\n",
       "      <td>calico</td>\n",
       "      <td>istio-ambient</td>\n",
       "      <td>disabled</td>\n",
       "      <td>ping-echo</td>\n",
       "      <td>0</td>\n",
       "      <td>1736357548674001489</td>\n",
       "      <td>1736357548674170968</td>\n",
       "      <td>169479</td>\n",
       "      <td>5900.4</td>\n",
       "    </tr>\n",
       "    <tr>\n",
       "      <th>2</th>\n",
       "      <td>calico</td>\n",
       "      <td>istio-ambient</td>\n",
       "      <td>disabled</td>\n",
       "      <td>ping-echo</td>\n",
       "      <td>0</td>\n",
       "      <td>1736357548674179030</td>\n",
       "      <td>1736357548674310892</td>\n",
       "      <td>131862</td>\n",
       "      <td>7583.7</td>\n",
       "    </tr>\n",
       "    <tr>\n",
       "      <th>3</th>\n",
       "      <td>calico</td>\n",
       "      <td>istio-ambient</td>\n",
       "      <td>disabled</td>\n",
       "      <td>ping-echo</td>\n",
       "      <td>0</td>\n",
       "      <td>1736357548674326890</td>\n",
       "      <td>1736357548674448536</td>\n",
       "      <td>121646</td>\n",
       "      <td>8220.6</td>\n",
       "    </tr>\n",
       "    <tr>\n",
       "      <th>4</th>\n",
       "      <td>calico</td>\n",
       "      <td>istio-ambient</td>\n",
       "      <td>disabled</td>\n",
       "      <td>ping-echo</td>\n",
       "      <td>0</td>\n",
       "      <td>1736357548674453871</td>\n",
       "      <td>1736357548674564736</td>\n",
       "      <td>110865</td>\n",
       "      <td>9020.0</td>\n",
       "    </tr>\n",
       "  </tbody>\n",
       "</table>\n",
       "</div>"
      ],
      "text/plain": [
       "      cni   service_mesh optimization   workload  run                start  \\\n",
       "0  calico  istio-ambient     disabled  ping-echo    0  1736357548673463663   \n",
       "1  calico  istio-ambient     disabled  ping-echo    0  1736357548674001489   \n",
       "2  calico  istio-ambient     disabled  ping-echo    0  1736357548674179030   \n",
       "3  calico  istio-ambient     disabled  ping-echo    0  1736357548674326890   \n",
       "4  calico  istio-ambient     disabled  ping-echo    0  1736357548674453871   \n",
       "\n",
       "                   end  latency     RPS  \n",
       "0  1736357548673984875   521212  1918.6  \n",
       "1  1736357548674170968   169479  5900.4  \n",
       "2  1736357548674310892   131862  7583.7  \n",
       "3  1736357548674448536   121646  8220.6  \n",
       "4  1736357548674564736   110865  9020.0  "
      ]
     },
     "execution_count": 22,
     "metadata": {},
     "output_type": "execute_result"
    }
   ],
   "source": [
    "ping_echo.head()"
   ]
  },
  {
   "cell_type": "code",
   "execution_count": 23,
   "id": "534f894b-4661-44ac-8228-c8a1ce11f0d2",
   "metadata": {
    "colab": {
     "base_uri": "https://localhost:8080/",
     "height": 955
    },
    "executionInfo": {
     "elapsed": 20837,
     "status": "ok",
     "timestamp": 1680268310573,
     "user": {
      "displayName": "arthur simas",
      "userId": "04073960446793716118"
     },
     "user_tz": 180
    },
    "id": "2a30778c-713b-45da-b829-e3ed41eb770b",
    "outputId": "fdd46a50-134f-4ccc-c903-c39da16e1f14",
    "tags": []
   },
   "outputs": [],
   "source": [
    "grouped = ping_echo.groupby(['cni', 'service_mesh', 'optimization', 'workload', 'run'])\n",
    "ping_echo_extra = grouped.agg(start_min=('start', 'min'), end_max=('end', 'max'))\n",
    "ping_echo_extra['jitter'] = grouped[['latency']].std(ddof=0)\n",
    "ping_echo_extra.reset_index(inplace=True)"
   ]
  },
  {
   "cell_type": "code",
   "execution_count": 24,
   "id": "cb467a6c-d9fd-4ada-9e88-0ac99d775946",
   "metadata": {
    "colab": {
     "base_uri": "https://localhost:8080/",
     "height": 955
    },
    "executionInfo": {
     "elapsed": 20837,
     "status": "ok",
     "timestamp": 1680268310573,
     "user": {
      "displayName": "arthur simas",
      "userId": "04073960446793716118"
     },
     "user_tz": 180
    },
    "id": "2a30778c-713b-45da-b829-e3ed41eb770b",
    "outputId": "fdd46a50-134f-4ccc-c903-c39da16e1f14",
    "tags": []
   },
   "outputs": [
    {
     "data": {
      "text/html": [
       "<div>\n",
       "<style scoped>\n",
       "    .dataframe tbody tr th:only-of-type {\n",
       "        vertical-align: middle;\n",
       "    }\n",
       "\n",
       "    .dataframe tbody tr th {\n",
       "        vertical-align: top;\n",
       "    }\n",
       "\n",
       "    .dataframe thead th {\n",
       "        text-align: right;\n",
       "    }\n",
       "</style>\n",
       "<table border=\"1\" class=\"dataframe\">\n",
       "  <thead>\n",
       "    <tr style=\"text-align: right;\">\n",
       "      <th></th>\n",
       "      <th>cni</th>\n",
       "      <th>service_mesh</th>\n",
       "      <th>optimization</th>\n",
       "      <th>workload</th>\n",
       "      <th>run</th>\n",
       "      <th>start_min</th>\n",
       "      <th>end_max</th>\n",
       "      <th>jitter</th>\n",
       "    </tr>\n",
       "  </thead>\n",
       "  <tbody>\n",
       "    <tr>\n",
       "      <th>0</th>\n",
       "      <td>calico</td>\n",
       "      <td>istio-ambient</td>\n",
       "      <td>disabled</td>\n",
       "      <td>ping-echo</td>\n",
       "      <td>0</td>\n",
       "      <td>1736357548673463663</td>\n",
       "      <td>1736357563293586211</td>\n",
       "      <td>108852.8</td>\n",
       "    </tr>\n",
       "    <tr>\n",
       "      <th>1</th>\n",
       "      <td>calico</td>\n",
       "      <td>istio-ambient</td>\n",
       "      <td>disabled</td>\n",
       "      <td>ping-echo</td>\n",
       "      <td>1</td>\n",
       "      <td>1736357565295443961</td>\n",
       "      <td>1736357580060699877</td>\n",
       "      <td>99831.8</td>\n",
       "    </tr>\n",
       "    <tr>\n",
       "      <th>2</th>\n",
       "      <td>calico</td>\n",
       "      <td>istio-ambient</td>\n",
       "      <td>disabled</td>\n",
       "      <td>ping-echo</td>\n",
       "      <td>2</td>\n",
       "      <td>1736357582062233676</td>\n",
       "      <td>1736357596750912885</td>\n",
       "      <td>93902.5</td>\n",
       "    </tr>\n",
       "    <tr>\n",
       "      <th>3</th>\n",
       "      <td>calico</td>\n",
       "      <td>istio-ambient</td>\n",
       "      <td>disabled</td>\n",
       "      <td>ping-echo</td>\n",
       "      <td>3</td>\n",
       "      <td>1736357598752148818</td>\n",
       "      <td>1736357613694342945</td>\n",
       "      <td>102313.2</td>\n",
       "    </tr>\n",
       "    <tr>\n",
       "      <th>4</th>\n",
       "      <td>calico</td>\n",
       "      <td>istio-ambient</td>\n",
       "      <td>disabled</td>\n",
       "      <td>ping-echo</td>\n",
       "      <td>4</td>\n",
       "      <td>1736357615696592734</td>\n",
       "      <td>1736357630437159373</td>\n",
       "      <td>103280.0</td>\n",
       "    </tr>\n",
       "  </tbody>\n",
       "</table>\n",
       "</div>"
      ],
      "text/plain": [
       "      cni   service_mesh optimization   workload  run            start_min  \\\n",
       "0  calico  istio-ambient     disabled  ping-echo    0  1736357548673463663   \n",
       "1  calico  istio-ambient     disabled  ping-echo    1  1736357565295443961   \n",
       "2  calico  istio-ambient     disabled  ping-echo    2  1736357582062233676   \n",
       "3  calico  istio-ambient     disabled  ping-echo    3  1736357598752148818   \n",
       "4  calico  istio-ambient     disabled  ping-echo    4  1736357615696592734   \n",
       "\n",
       "               end_max    jitter  \n",
       "0  1736357563293586211  108852.8  \n",
       "1  1736357580060699877   99831.8  \n",
       "2  1736357596750912885   93902.5  \n",
       "3  1736357613694342945  102313.2  \n",
       "4  1736357630437159373  103280.0  "
      ]
     },
     "execution_count": 24,
     "metadata": {},
     "output_type": "execute_result"
    }
   ],
   "source": [
    "ping_echo_extra.head()"
   ]
  },
  {
   "cell_type": "code",
   "execution_count": 25,
   "id": "f5b5f05e-92c2-485f-904b-d35d11754b2e",
   "metadata": {
    "colab": {
     "base_uri": "https://localhost:8080/",
     "height": 955
    },
    "executionInfo": {
     "elapsed": 20837,
     "status": "ok",
     "timestamp": 1680268310573,
     "user": {
      "displayName": "arthur simas",
      "userId": "04073960446793716118"
     },
     "user_tz": 180
    },
    "id": "2a30778c-713b-45da-b829-e3ed41eb770b",
    "outputId": "fdd46a50-134f-4ccc-c903-c39da16e1f14",
    "tags": []
   },
   "outputs": [
    {
     "data": {
      "text/html": [
       "<div>\n",
       "<style scoped>\n",
       "    .dataframe tbody tr th:only-of-type {\n",
       "        vertical-align: middle;\n",
       "    }\n",
       "\n",
       "    .dataframe tbody tr th {\n",
       "        vertical-align: top;\n",
       "    }\n",
       "\n",
       "    .dataframe thead th {\n",
       "        text-align: right;\n",
       "    }\n",
       "</style>\n",
       "<table border=\"1\" class=\"dataframe\">\n",
       "  <thead>\n",
       "    <tr style=\"text-align: right;\">\n",
       "      <th></th>\n",
       "      <th></th>\n",
       "      <th>p25</th>\n",
       "      <th>p50</th>\n",
       "      <th>avg</th>\n",
       "      <th>p75</th>\n",
       "    </tr>\n",
       "    <tr>\n",
       "      <th>service_mesh</th>\n",
       "      <th>optimization</th>\n",
       "      <th></th>\n",
       "      <th></th>\n",
       "      <th></th>\n",
       "      <th></th>\n",
       "    </tr>\n",
       "  </thead>\n",
       "  <tbody>\n",
       "    <tr>\n",
       "      <th rowspan=\"2\" valign=\"top\">cilium</th>\n",
       "      <th>disabled</th>\n",
       "      <td>1316.8</td>\n",
       "      <td>1325.1</td>\n",
       "      <td>1325.7</td>\n",
       "      <td>1334.6</td>\n",
       "    </tr>\n",
       "    <tr>\n",
       "      <th>enabled</th>\n",
       "      <td>1345.5</td>\n",
       "      <td>1350.9</td>\n",
       "      <td>1352.4</td>\n",
       "      <td>1360.6</td>\n",
       "    </tr>\n",
       "    <tr>\n",
       "      <th rowspan=\"2\" valign=\"top\">istio-ambient</th>\n",
       "      <th>disabled</th>\n",
       "      <td>1652.2</td>\n",
       "      <td>1662.5</td>\n",
       "      <td>1660.7</td>\n",
       "      <td>1673.6</td>\n",
       "    </tr>\n",
       "    <tr>\n",
       "      <th>enabled</th>\n",
       "      <td>1670.0</td>\n",
       "      <td>1679.3</td>\n",
       "      <td>1677.7</td>\n",
       "      <td>1689.7</td>\n",
       "    </tr>\n",
       "    <tr>\n",
       "      <th rowspan=\"2\" valign=\"top\">istio-sidecar</th>\n",
       "      <th>disabled</th>\n",
       "      <td>1636.2</td>\n",
       "      <td>1650.7</td>\n",
       "      <td>1645.7</td>\n",
       "      <td>1661.6</td>\n",
       "    </tr>\n",
       "    <tr>\n",
       "      <th>enabled</th>\n",
       "      <td>1663.0</td>\n",
       "      <td>1670.7</td>\n",
       "      <td>1667.6</td>\n",
       "      <td>1678.0</td>\n",
       "    </tr>\n",
       "    <tr>\n",
       "      <th rowspan=\"2\" valign=\"top\">none</th>\n",
       "      <th>disabled</th>\n",
       "      <td>1373.6</td>\n",
       "      <td>1382.6</td>\n",
       "      <td>1380.2</td>\n",
       "      <td>1387.6</td>\n",
       "    </tr>\n",
       "    <tr>\n",
       "      <th>enabled</th>\n",
       "      <td>1404.5</td>\n",
       "      <td>1414.5</td>\n",
       "      <td>1411.4</td>\n",
       "      <td>1422.1</td>\n",
       "    </tr>\n",
       "  </tbody>\n",
       "</table>\n",
       "</div>"
      ],
      "text/plain": [
       "                               p25     p50     avg     p75\n",
       "service_mesh  optimization                                \n",
       "cilium        disabled      1316.8  1325.1  1325.7  1334.6\n",
       "              enabled       1345.5  1350.9  1352.4  1360.6\n",
       "istio-ambient disabled      1652.2  1662.5  1660.7  1673.6\n",
       "              enabled       1670.0  1679.3  1677.7  1689.7\n",
       "istio-sidecar disabled      1636.2  1650.7  1645.7  1661.6\n",
       "              enabled       1663.0  1670.7  1667.6  1678.0\n",
       "none          disabled      1373.6  1382.6  1380.2  1387.6\n",
       "              enabled       1404.5  1414.5  1411.4  1422.1"
      ]
     },
     "execution_count": 25,
     "metadata": {},
     "output_type": "execute_result"
    }
   ],
   "source": [
    "summary = memory_used_bytes[memory_used_bytes.workload.eq('ping-echo')].groupby(['service_mesh', 'optimization'])['value'].agg(\n",
    "    p25=lambda x: x.quantile(.25),\n",
    "    p50=lambda x: x.quantile(.50),\n",
    "    avg=lambda x: x.mean(),\n",
    "    p75=lambda x: x.quantile(.75),\n",
    ").map(lambda x: format_data_size(x, 'B', 'MB'))\n",
    "\n",
    "summary\n",
    "#print_latex(summary)"
   ]
  },
  {
   "cell_type": "code",
   "execution_count": 26,
   "id": "d1ecdc45-d1fe-4c35-b7f7-c6d796e1ae71",
   "metadata": {
    "colab": {
     "base_uri": "https://localhost:8080/",
     "height": 955
    },
    "executionInfo": {
     "elapsed": 20837,
     "status": "ok",
     "timestamp": 1680268310573,
     "user": {
      "displayName": "arthur simas",
      "userId": "04073960446793716118"
     },
     "user_tz": 180
    },
    "id": "2a30778c-713b-45da-b829-e3ed41eb770b",
    "outputId": "fdd46a50-134f-4ccc-c903-c39da16e1f14",
    "tags": []
   },
   "outputs": [
    {
     "data": {
      "image/png": "[encoded data removed]",
      "text/plain": [
       "<Figure size 640x480 with 1 Axes>"
      ]
     },
     "metadata": {},
     "output_type": "display_data"
    }
   ],
   "source": [
    "g = sns.barplot(data=memory_used_bytes[memory_used_bytes.workload.eq('ping-echo')], y='value', x='service_mesh', hue='optimization', order=service_mesh_order, hue_order=optimization_order)\n",
    "\n",
    "g.set_yticks(g.get_yticks().tolist())\n",
    "g.set(\n",
    "    xlabel='Service Mesh',\n",
    "    ylabel='Memory Usage (MB)',\n",
    "    yticklabels=[format_data_size(tick, 'B', 'MB') for tick in g.get_yticks()],\n",
    ")\n",
    "\n",
    "g.legend(title='Mode', loc='center right')\n",
    "update_legend(g, {'disabled': 'Baseline', 'enabled': 'eSeMeshA'})\n",
    "\n",
    "hatch_patterns = ['', '\\\\']\n",
    "for pattern, legend_patch, bars in zip(hatch_patterns, g.get_legend().get_patches(), g.containers):\n",
    "    legend_patch.set_hatch(pattern * 2)\n",
    "    for bar in bars:\n",
    "        bar.set_hatch(pattern)\n",
    "\n",
    "g.figure.savefig('ping-echo-barplot-memory-usage.svg', bbox_inches='tight')"
   ]
  },
  {
   "cell_type": "code",
   "execution_count": 27,
   "id": "cb9014d6-a073-4ddf-b799-c71718c528a9",
   "metadata": {
    "colab": {
     "base_uri": "https://localhost:8080/",
     "height": 955
    },
    "executionInfo": {
     "elapsed": 20837,
     "status": "ok",
     "timestamp": 1680268310573,
     "user": {
      "displayName": "arthur simas",
      "userId": "04073960446793716118"
     },
     "user_tz": 180
    },
    "id": "2a30778c-713b-45da-b829-e3ed41eb770b",
    "outputId": "fdd46a50-134f-4ccc-c903-c39da16e1f14",
    "tags": []
   },
   "outputs": [
    {
     "data": {
      "image/png": "[encoded data removed]",
      "text/plain": [
       "<Figure size 640x480 with 1 Axes>"
      ]
     },
     "metadata": {},
     "output_type": "display_data"
    }
   ],
   "source": [
    "g = sns.barplot(data=cpu_seconds_usage[cpu_seconds_usage.workload.eq('ping-echo')], y='value', x='service_mesh', hue='optimization', order=service_mesh_order, hue_order=optimization_order)\n",
    "\n",
    "g.set_yticks(g.get_yticks().tolist())\n",
    "g.set(\n",
    "    xlabel='Service Mesh',\n",
    "    ylabel='CPU Usage (s)',\n",
    ")\n",
    "\n",
    "g.legend(title='Mode', loc='upper left')\n",
    "update_legend(g, {'disabled': 'Baseline', 'enabled': 'eSeMeshA'})\n",
    "\n",
    "hatch_patterns = ['', '\\\\']\n",
    "for pattern, legend_patch, bars in zip(hatch_patterns, g.get_legend().get_patches(), g.containers):\n",
    "    legend_patch.set_hatch(pattern * 2)\n",
    "    for bar in bars:\n",
    "        bar.set_hatch(pattern)\n",
    "\n",
    "g.figure.savefig('ping-echo-barplot-cpu-usage.svg', bbox_inches='tight')"
   ]
  },
  {
   "cell_type": "code",
   "execution_count": 28,
   "id": "d5aaddd1-580d-4035-b82c-d5c067355884",
   "metadata": {
    "colab": {
     "base_uri": "https://localhost:8080/",
     "height": 955
    },
    "executionInfo": {
     "elapsed": 20837,
     "status": "ok",
     "timestamp": 1680268310573,
     "user": {
      "displayName": "arthur simas",
      "userId": "04073960446793716118"
     },
     "user_tz": 180
    },
    "id": "2a30778c-713b-45da-b829-e3ed41eb770b",
    "outputId": "fdd46a50-134f-4ccc-c903-c39da16e1f14",
    "tags": []
   },
   "outputs": [
    {
     "data": {
      "text/html": [
       "<div>\n",
       "<style scoped>\n",
       "    .dataframe tbody tr th:only-of-type {\n",
       "        vertical-align: middle;\n",
       "    }\n",
       "\n",
       "    .dataframe tbody tr th {\n",
       "        vertical-align: top;\n",
       "    }\n",
       "\n",
       "    .dataframe thead th {\n",
       "        text-align: right;\n",
       "    }\n",
       "</style>\n",
       "<table border=\"1\" class=\"dataframe\">\n",
       "  <thead>\n",
       "    <tr style=\"text-align: right;\">\n",
       "      <th></th>\n",
       "      <th></th>\n",
       "      <th>p25</th>\n",
       "      <th>p50</th>\n",
       "      <th>avg</th>\n",
       "      <th>p75</th>\n",
       "    </tr>\n",
       "    <tr>\n",
       "      <th>service_mesh</th>\n",
       "      <th>optimization</th>\n",
       "      <th></th>\n",
       "      <th></th>\n",
       "      <th></th>\n",
       "      <th></th>\n",
       "    </tr>\n",
       "  </thead>\n",
       "  <tbody>\n",
       "    <tr>\n",
       "      <th rowspan=\"2\" valign=\"top\">cilium</th>\n",
       "      <th>disabled</th>\n",
       "      <td>7447.3</td>\n",
       "      <td>9803.7</td>\n",
       "      <td>9685.2</td>\n",
       "      <td>12055.0</td>\n",
       "    </tr>\n",
       "    <tr>\n",
       "      <th>enabled</th>\n",
       "      <td>10275.5</td>\n",
       "      <td>13541.5</td>\n",
       "      <td>13058.0</td>\n",
       "      <td>16422.5</td>\n",
       "    </tr>\n",
       "    <tr>\n",
       "      <th rowspan=\"2\" valign=\"top\">istio-ambient</th>\n",
       "      <th>disabled</th>\n",
       "      <td>6303.4</td>\n",
       "      <td>8196.4</td>\n",
       "      <td>8172.3</td>\n",
       "      <td>10124.0</td>\n",
       "    </tr>\n",
       "    <tr>\n",
       "      <th>enabled</th>\n",
       "      <td>10385.2</td>\n",
       "      <td>13808.1</td>\n",
       "      <td>13274.4</td>\n",
       "      <td>16728.0</td>\n",
       "    </tr>\n",
       "    <tr>\n",
       "      <th rowspan=\"2\" valign=\"top\">istio-sidecar</th>\n",
       "      <th>disabled</th>\n",
       "      <td>1625.3</td>\n",
       "      <td>2017.9</td>\n",
       "      <td>2049.1</td>\n",
       "      <td>2459.8</td>\n",
       "    </tr>\n",
       "    <tr>\n",
       "      <th>enabled</th>\n",
       "      <td>2781.4</td>\n",
       "      <td>3479.5</td>\n",
       "      <td>3502.1</td>\n",
       "      <td>4235.2</td>\n",
       "    </tr>\n",
       "    <tr>\n",
       "      <th rowspan=\"2\" valign=\"top\">none</th>\n",
       "      <th>disabled</th>\n",
       "      <td>6338.0</td>\n",
       "      <td>8238.7</td>\n",
       "      <td>8186.1</td>\n",
       "      <td>10240.6</td>\n",
       "    </tr>\n",
       "    <tr>\n",
       "      <th>enabled</th>\n",
       "      <td>10260.2</td>\n",
       "      <td>13600.8</td>\n",
       "      <td>13104.6</td>\n",
       "      <td>16514.2</td>\n",
       "    </tr>\n",
       "  </tbody>\n",
       "</table>\n",
       "</div>"
      ],
      "text/plain": [
       "                                p25      p50      avg      p75\n",
       "service_mesh  optimization                                    \n",
       "cilium        disabled       7447.3   9803.7   9685.2  12055.0\n",
       "              enabled       10275.5  13541.5  13058.0  16422.5\n",
       "istio-ambient disabled       6303.4   8196.4   8172.3  10124.0\n",
       "              enabled       10385.2  13808.1  13274.4  16728.0\n",
       "istio-sidecar disabled       1625.3   2017.9   2049.1   2459.8\n",
       "              enabled        2781.4   3479.5   3502.1   4235.2\n",
       "none          disabled       6338.0   8238.7   8186.1  10240.6\n",
       "              enabled       10260.2  13600.8  13104.6  16514.2"
      ]
     },
     "execution_count": 28,
     "metadata": {},
     "output_type": "execute_result"
    }
   ],
   "source": [
    "summary = ping_echo.groupby(['service_mesh', 'optimization'])['RPS'].agg(\n",
    "    p25=lambda x: x.quantile(.25),\n",
    "    p50=lambda x: x.quantile(.50),\n",
    "    avg=lambda x: x.mean(),\n",
    "    p75=lambda x: x.quantile(.75),\n",
    ")\n",
    "\n",
    "summary\n",
    "#print_latex(summary)"
   ]
  },
  {
   "cell_type": "code",
   "execution_count": 29,
   "id": "c573442f-d14f-43f7-a4f6-692ff4f267de",
   "metadata": {
    "colab": {
     "base_uri": "https://localhost:8080/",
     "height": 955
    },
    "executionInfo": {
     "elapsed": 20837,
     "status": "ok",
     "timestamp": 1680268310573,
     "user": {
      "displayName": "arthur simas",
      "userId": "04073960446793716118"
     },
     "user_tz": 180
    },
    "id": "2a30778c-713b-45da-b829-e3ed41eb770b",
    "outputId": "fdd46a50-134f-4ccc-c903-c39da16e1f14",
    "tags": []
   },
   "outputs": [
    {
     "data": {
      "image/png": "[encoded data removed]",
      "text/plain": [
       "<Figure size 640x480 with 1 Axes>"
      ]
     },
     "metadata": {},
     "output_type": "display_data"
    }
   ],
   "source": [
    "g = sns.barplot(data=ping_echo, y='RPS', x='service_mesh', hue='optimization', order=service_mesh_order, hue_order=optimization_order)\n",
    "\n",
    "g.set(\n",
    "    xlabel='Service Mesh',\n",
    "    ylabel='RPS',\n",
    ")\n",
    "\n",
    "g.legend(title='Mode', loc='upper right')\n",
    "update_legend(g, {'disabled': 'Baseline', 'enabled': 'eSeMeshA'})\n",
    "\n",
    "hatch_patterns = ['', '\\\\']\n",
    "for pattern, legend_patch, bars in zip(hatch_patterns, g.get_legend().get_patches(), g.containers):\n",
    "    legend_patch.set_hatch(pattern * 2)\n",
    "    for bar in bars:\n",
    "        bar.set_hatch(pattern)\n",
    "\n",
    "g.figure.savefig('ping-echo-barplot-rps.svg', bbox_inches='tight')"
   ]
  },
  {
   "cell_type": "code",
   "execution_count": 30,
   "id": "dc80b1ea-8125-42b2-b04b-5f52bb531bad",
   "metadata": {
    "colab": {
     "base_uri": "https://localhost:8080/",
     "height": 955
    },
    "executionInfo": {
     "elapsed": 20837,
     "status": "ok",
     "timestamp": 1680268310573,
     "user": {
      "displayName": "arthur simas",
      "userId": "04073960446793716118"
     },
     "user_tz": 180
    },
    "id": "2a30778c-713b-45da-b829-e3ed41eb770b",
    "outputId": "fdd46a50-134f-4ccc-c903-c39da16e1f14",
    "tags": []
   },
   "outputs": [
    {
     "data": {
      "text/html": [
       "<div>\n",
       "<style scoped>\n",
       "    .dataframe tbody tr th:only-of-type {\n",
       "        vertical-align: middle;\n",
       "    }\n",
       "\n",
       "    .dataframe tbody tr th {\n",
       "        vertical-align: top;\n",
       "    }\n",
       "\n",
       "    .dataframe thead th {\n",
       "        text-align: right;\n",
       "    }\n",
       "</style>\n",
       "<table border=\"1\" class=\"dataframe\">\n",
       "  <thead>\n",
       "    <tr style=\"text-align: right;\">\n",
       "      <th></th>\n",
       "      <th></th>\n",
       "      <th>p25</th>\n",
       "      <th>p50</th>\n",
       "      <th>avg</th>\n",
       "      <th>p75</th>\n",
       "    </tr>\n",
       "    <tr>\n",
       "      <th>service_mesh</th>\n",
       "      <th>optimization</th>\n",
       "      <th></th>\n",
       "      <th></th>\n",
       "      <th></th>\n",
       "      <th></th>\n",
       "    </tr>\n",
       "  </thead>\n",
       "  <tbody>\n",
       "    <tr>\n",
       "      <th rowspan=\"2\" valign=\"top\">cilium</th>\n",
       "      <th>disabled</th>\n",
       "      <td>83.0</td>\n",
       "      <td>102.0</td>\n",
       "      <td>118.5</td>\n",
       "      <td>134.3</td>\n",
       "    </tr>\n",
       "    <tr>\n",
       "      <th>enabled</th>\n",
       "      <td>60.9</td>\n",
       "      <td>73.8</td>\n",
       "      <td>91.4</td>\n",
       "      <td>97.3</td>\n",
       "    </tr>\n",
       "    <tr>\n",
       "      <th rowspan=\"2\" valign=\"top\">istio-ambient</th>\n",
       "      <th>disabled</th>\n",
       "      <td>98.8</td>\n",
       "      <td>122.0</td>\n",
       "      <td>140.5</td>\n",
       "      <td>158.6</td>\n",
       "    </tr>\n",
       "    <tr>\n",
       "      <th>enabled</th>\n",
       "      <td>59.8</td>\n",
       "      <td>72.4</td>\n",
       "      <td>91.1</td>\n",
       "      <td>96.3</td>\n",
       "    </tr>\n",
       "    <tr>\n",
       "      <th rowspan=\"2\" valign=\"top\">istio-sidecar</th>\n",
       "      <th>disabled</th>\n",
       "      <td>406.5</td>\n",
       "      <td>495.6</td>\n",
       "      <td>551.5</td>\n",
       "      <td>615.3</td>\n",
       "    </tr>\n",
       "    <tr>\n",
       "      <th>enabled</th>\n",
       "      <td>236.1</td>\n",
       "      <td>287.4</td>\n",
       "      <td>320.4</td>\n",
       "      <td>359.5</td>\n",
       "    </tr>\n",
       "    <tr>\n",
       "      <th rowspan=\"2\" valign=\"top\">none</th>\n",
       "      <th>disabled</th>\n",
       "      <td>97.7</td>\n",
       "      <td>121.4</td>\n",
       "      <td>139.8</td>\n",
       "      <td>157.8</td>\n",
       "    </tr>\n",
       "    <tr>\n",
       "      <th>enabled</th>\n",
       "      <td>60.6</td>\n",
       "      <td>73.5</td>\n",
       "      <td>91.2</td>\n",
       "      <td>97.5</td>\n",
       "    </tr>\n",
       "  </tbody>\n",
       "</table>\n",
       "</div>"
      ],
      "text/plain": [
       "                              p25    p50    avg    p75\n",
       "service_mesh  optimization                            \n",
       "cilium        disabled       83.0  102.0  118.5  134.3\n",
       "              enabled        60.9   73.8   91.4   97.3\n",
       "istio-ambient disabled       98.8  122.0  140.5  158.6\n",
       "              enabled        59.8   72.4   91.1   96.3\n",
       "istio-sidecar disabled      406.5  495.6  551.5  615.3\n",
       "              enabled       236.1  287.4  320.4  359.5\n",
       "none          disabled       97.7  121.4  139.8  157.8\n",
       "              enabled        60.6   73.5   91.2   97.5"
      ]
     },
     "execution_count": 30,
     "metadata": {},
     "output_type": "execute_result"
    }
   ],
   "source": [
    "summary = ping_echo.groupby(['service_mesh', 'optimization'])['latency'].agg(\n",
    "    p25=lambda x: x.quantile(.25),\n",
    "    p50=lambda x: x.quantile(.50),\n",
    "    avg=lambda x: x.mean(),\n",
    "    p75=lambda x: x.quantile(.75),\n",
    ").map(lambda x: format_time(x, 'ns', 'us'))\n",
    "\n",
    "summary\n",
    "#print_latex(summary)"
   ]
  },
  {
   "cell_type": "code",
   "execution_count": 31,
   "id": "c6324003-019b-449b-8497-90c9bff40dfe",
   "metadata": {
    "colab": {
     "base_uri": "https://localhost:8080/",
     "height": 955
    },
    "executionInfo": {
     "elapsed": 20837,
     "status": "ok",
     "timestamp": 1680268310573,
     "user": {
      "displayName": "arthur simas",
      "userId": "04073960446793716118"
     },
     "user_tz": 180
    },
    "id": "2a30778c-713b-45da-b829-e3ed41eb770b",
    "outputId": "fdd46a50-134f-4ccc-c903-c39da16e1f14",
    "tags": []
   },
   "outputs": [
    {
     "data": {
      "image/png": "[encoded data removed]",
      "text/plain": [
       "<Figure size 640x480 with 1 Axes>"
      ]
     },
     "metadata": {},
     "output_type": "display_data"
    }
   ],
   "source": [
    "g = sns.barplot(data=ping_echo, y='latency', x='service_mesh', hue='optimization', order=service_mesh_order, hue_order=optimization_order)\n",
    "\n",
    "g.set_yticks(g.get_yticks().tolist())\n",
    "g.set(\n",
    "    xlabel='Service Mesh',\n",
    "    ylabel='Latency (µs)',\n",
    "    yticklabels=[format_time(tick, 'ns', 'us') for tick in g.get_yticks()],\n",
    ")\n",
    "\n",
    "g.legend(title='Mode', loc='upper left')\n",
    "update_legend(g, {'disabled': 'Baseline', 'enabled': 'eSeMeshA'})\n",
    "\n",
    "hatch_patterns = ['', '\\\\']\n",
    "for pattern, legend_patch, bars in zip(hatch_patterns, g.get_legend().get_patches(), g.containers):\n",
    "    legend_patch.set_hatch(pattern * 2)\n",
    "    for bar in bars:\n",
    "        bar.set_hatch(pattern)\n",
    "\n",
    "g.figure.savefig('ping-echo-barplot-latency.svg', bbox_inches='tight')"
   ]
  },
  {
   "cell_type": "code",
   "execution_count": 32,
   "id": "1ad9ff17-63dc-447d-8a1a-7f2f69633915",
   "metadata": {
    "colab": {
     "base_uri": "https://localhost:8080/",
     "height": 955
    },
    "executionInfo": {
     "elapsed": 20837,
     "status": "ok",
     "timestamp": 1680268310573,
     "user": {
      "displayName": "arthur simas",
      "userId": "04073960446793716118"
     },
     "user_tz": 180
    },
    "id": "2a30778c-713b-45da-b829-e3ed41eb770b",
    "outputId": "fdd46a50-134f-4ccc-c903-c39da16e1f14",
    "tags": []
   },
   "outputs": [
    {
     "data": {
      "text/html": [
       "<div>\n",
       "<style scoped>\n",
       "    .dataframe tbody tr th:only-of-type {\n",
       "        vertical-align: middle;\n",
       "    }\n",
       "\n",
       "    .dataframe tbody tr th {\n",
       "        vertical-align: top;\n",
       "    }\n",
       "\n",
       "    .dataframe thead th {\n",
       "        text-align: right;\n",
       "    }\n",
       "</style>\n",
       "<table border=\"1\" class=\"dataframe\">\n",
       "  <thead>\n",
       "    <tr style=\"text-align: right;\">\n",
       "      <th></th>\n",
       "      <th></th>\n",
       "      <th>p25</th>\n",
       "      <th>p50</th>\n",
       "      <th>avg</th>\n",
       "      <th>p75</th>\n",
       "    </tr>\n",
       "    <tr>\n",
       "      <th>service_mesh</th>\n",
       "      <th>optimization</th>\n",
       "      <th></th>\n",
       "      <th></th>\n",
       "      <th></th>\n",
       "      <th></th>\n",
       "    </tr>\n",
       "  </thead>\n",
       "  <tbody>\n",
       "    <tr>\n",
       "      <th rowspan=\"2\" valign=\"top\">cilium</th>\n",
       "      <th>disabled</th>\n",
       "      <td>87.6</td>\n",
       "      <td>87.9</td>\n",
       "      <td>87.9</td>\n",
       "      <td>89.2</td>\n",
       "    </tr>\n",
       "    <tr>\n",
       "      <th>enabled</th>\n",
       "      <td>96.0</td>\n",
       "      <td>97.4</td>\n",
       "      <td>101.3</td>\n",
       "      <td>99.4</td>\n",
       "    </tr>\n",
       "    <tr>\n",
       "      <th rowspan=\"2\" valign=\"top\">istio-ambient</th>\n",
       "      <th>disabled</th>\n",
       "      <td>99.8</td>\n",
       "      <td>102.3</td>\n",
       "      <td>101.6</td>\n",
       "      <td>103.3</td>\n",
       "    </tr>\n",
       "    <tr>\n",
       "      <th>enabled</th>\n",
       "      <td>94.7</td>\n",
       "      <td>103.9</td>\n",
       "      <td>110.9</td>\n",
       "      <td>104.5</td>\n",
       "    </tr>\n",
       "    <tr>\n",
       "      <th rowspan=\"2\" valign=\"top\">istio-sidecar</th>\n",
       "      <th>disabled</th>\n",
       "      <td>276.7</td>\n",
       "      <td>278.3</td>\n",
       "      <td>278.5</td>\n",
       "      <td>279.3</td>\n",
       "    </tr>\n",
       "    <tr>\n",
       "      <th>enabled</th>\n",
       "      <td>171.8</td>\n",
       "      <td>179.1</td>\n",
       "      <td>178.8</td>\n",
       "      <td>180.0</td>\n",
       "    </tr>\n",
       "    <tr>\n",
       "      <th rowspan=\"2\" valign=\"top\">none</th>\n",
       "      <th>disabled</th>\n",
       "      <td>95.2</td>\n",
       "      <td>96.0</td>\n",
       "      <td>96.1</td>\n",
       "      <td>96.6</td>\n",
       "    </tr>\n",
       "    <tr>\n",
       "      <th>enabled</th>\n",
       "      <td>92.3</td>\n",
       "      <td>95.8</td>\n",
       "      <td>94.7</td>\n",
       "      <td>97.3</td>\n",
       "    </tr>\n",
       "  </tbody>\n",
       "</table>\n",
       "</div>"
      ],
      "text/plain": [
       "                              p25    p50    avg    p75\n",
       "service_mesh  optimization                            \n",
       "cilium        disabled       87.6   87.9   87.9   89.2\n",
       "              enabled        96.0   97.4  101.3   99.4\n",
       "istio-ambient disabled       99.8  102.3  101.6  103.3\n",
       "              enabled        94.7  103.9  110.9  104.5\n",
       "istio-sidecar disabled      276.7  278.3  278.5  279.3\n",
       "              enabled       171.8  179.1  178.8  180.0\n",
       "none          disabled       95.2   96.0   96.1   96.6\n",
       "              enabled        92.3   95.8   94.7   97.3"
      ]
     },
     "execution_count": 32,
     "metadata": {},
     "output_type": "execute_result"
    }
   ],
   "source": [
    "summary = ping_echo_extra.groupby(['service_mesh', 'optimization'])['jitter'].agg(\n",
    "    p25=lambda x: x.quantile(.25),\n",
    "    p50=lambda x: x.quantile(.50),\n",
    "    avg=lambda x: x.mean(),\n",
    "    p75=lambda x: x.quantile(.75),\n",
    ").map(lambda x: format_time(x, 'ns', 'us'))\n",
    "\n",
    "summary\n",
    "#print_latex(summary)"
   ]
  },
  {
   "cell_type": "code",
   "execution_count": 33,
   "id": "7611526f-1f8d-4a82-8765-0b43653ba020",
   "metadata": {
    "colab": {
     "base_uri": "https://localhost:8080/",
     "height": 955
    },
    "executionInfo": {
     "elapsed": 20837,
     "status": "ok",
     "timestamp": 1680268310573,
     "user": {
      "displayName": "arthur simas",
      "userId": "04073960446793716118"
     },
     "user_tz": 180
    },
    "id": "2a30778c-713b-45da-b829-e3ed41eb770b",
    "outputId": "fdd46a50-134f-4ccc-c903-c39da16e1f14",
    "tags": []
   },
   "outputs": [
    {
     "data": {
      "image/png": "[encoded data removed]",
      "text/plain": [
       "<Figure size 640x480 with 1 Axes>"
      ]
     },
     "metadata": {},
     "output_type": "display_data"
    }
   ],
   "source": [
    "g = sns.barplot(data=ping_echo_extra, y='jitter', x='service_mesh', hue='optimization', order=service_mesh_order, hue_order=optimization_order)\n",
    "\n",
    "g.set_yticks(g.get_yticks().tolist())\n",
    "g.set(\n",
    "    xlabel='Service Mesh',\n",
    "    ylabel='Jitter (µs)',\n",
    "    yticklabels=[format_time(tick, 'ns', 'us') for tick in g.get_yticks()],\n",
    ")\n",
    "\n",
    "g.legend(title='Mode', loc='upper left')\n",
    "update_legend(g, {'disabled': 'Baseline', 'enabled': 'eSeMeshA'})\n",
    "\n",
    "hatch_patterns = ['', '\\\\']\n",
    "for pattern, legend_patch, bars in zip(hatch_patterns, g.get_legend().get_patches(), g.containers):\n",
    "    legend_patch.set_hatch(pattern * 2)\n",
    "    for bar in bars:\n",
    "        bar.set_hatch(pattern)\n",
    "\n",
    "g.figure.savefig('ping-echo-barplot-jitter.svg', bbox_inches='tight')"
   ]
  },
  {
   "cell_type": "code",
   "execution_count": 34,
   "id": "b25a3066-92f0-4dcb-93a1-02c8e3b13188",
   "metadata": {
    "colab": {
     "base_uri": "https://localhost:8080/",
     "height": 955
    },
    "executionInfo": {
     "elapsed": 20837,
     "status": "ok",
     "timestamp": 1680268310573,
     "user": {
      "displayName": "arthur simas",
      "userId": "04073960446793716118"
     },
     "user_tz": 180
    },
    "id": "2a30778c-713b-45da-b829-e3ed41eb770b",
    "outputId": "fdd46a50-134f-4ccc-c903-c39da16e1f14",
    "tags": []
   },
   "outputs": [],
   "source": [
    "summary_latency = ping_echo.groupby(['service_mesh', 'optimization'])['latency'].agg(\n",
    "    #p25=lambda x: x.quantile(.25),\n",
    "    #p50=lambda x: x.quantile(.50),\n",
    "    avg=lambda x: x.mean(),\n",
    "    #p75=lambda x: x.quantile(.75),\n",
    "    #std=lambda x: x.std(ddof=0),\n",
    ").map(lambda x: format_time(x, 'ns', 'us'))\n",
    "summary_latency_r = summary_latency.reset_index()\n",
    "\n",
    "summary_jitter = ping_echo.groupby(['service_mesh', 'optimization'])['latency'].agg(\n",
    "    #p25=lambda x: x.quantile(.25),\n",
    "    #p50=lambda x: x.quantile(.50),\n",
    "    #avg=lambda x: x.mean(),\n",
    "    #p75=lambda x: x.quantile(.75),\n",
    "    std=lambda x: x.std(ddof=0),\n",
    ").map(lambda x: format_time(x, 'ns', 'us'))\n",
    "summary_jitter_r = summary_jitter.reset_index()\n",
    "\n",
    "summary_rps = ping_echo.groupby(['service_mesh', 'optimization'])['RPS'].agg(\n",
    "    #p25=lambda x: x.quantile(.25),\n",
    "    #p50=lambda x: x.quantile(.50),\n",
    "    avg=lambda x: x.mean(),\n",
    "    #p75=lambda x: x.quantile(.75),\n",
    "    std=lambda x: x.std(ddof=0),\n",
    ")\n",
    "summary_rps_r = summary_rps.reset_index()\n",
    "\n",
    "summary_cpu = cpu_seconds_usage[cpu_seconds_usage.workload.eq('ping-echo')].groupby(['service_mesh', 'optimization'])['value'].agg(\n",
    "    #p25=lambda x: x.quantile(.25),\n",
    "    #p50=lambda x: x.quantile(.50),\n",
    "    total=lambda x: x.iloc[0],\n",
    "    #p75=lambda x: x.quantile(.75),\n",
    "    #std=lambda x: x.std(ddof=0),\n",
    ")\n",
    "summary_cpu_r = summary_cpu.reset_index()\n",
    "\n",
    "summary_memory = memory_used_bytes[memory_used_bytes.workload.eq('ping-echo')].groupby(['service_mesh', 'optimization'])['value'].agg(\n",
    "    #p25=lambda x: x.quantile(.25),\n",
    "    #p50=lambda x: x.quantile(.50),\n",
    "    avg=lambda x: x.mean(),\n",
    "    #p75=lambda x: x.quantile(.75),\n",
    "    std=lambda x: x.std(ddof=0),\n",
    ").map(lambda x: format_data_size(x, 'B', 'MB'))\n",
    "summary_memory_r = summary_memory.reset_index()"
   ]
  },
  {
   "cell_type": "code",
   "execution_count": 35,
   "id": "88955207-9f3e-4fc1-b4ce-8c3dac209664",
   "metadata": {
    "colab": {
     "base_uri": "https://localhost:8080/",
     "height": 955
    },
    "executionInfo": {
     "elapsed": 20837,
     "status": "ok",
     "timestamp": 1680268310573,
     "user": {
      "displayName": "arthur simas",
      "userId": "04073960446793716118"
     },
     "user_tz": 180
    },
    "id": "2a30778c-713b-45da-b829-e3ed41eb770b",
    "outputId": "fdd46a50-134f-4ccc-c903-c39da16e1f14",
    "tags": []
   },
   "outputs": [],
   "source": [
    "def summary_format(df, metric):\n",
    "    df = df.copy()\n",
    "    metric_float = df[metric].astype(float)\n",
    "    df[metric] = df[metric].map(float_format)\n",
    "    df['p'] = (metric_float / metric_float.shift() * 100 - 100).map(float_format)\n",
    "    return df.apply(lambda x: x[metric] + (f' (\\\\textbf{{{x.p}\\\\%}})' if x.optimization == 'enabled' else ''), 1)"
   ]
  },
  {
   "cell_type": "code",
   "execution_count": 36,
   "id": "a5afbcd7-9d83-43d5-b179-52f3fe27a4bd",
   "metadata": {
    "colab": {
     "base_uri": "https://localhost:8080/",
     "height": 955
    },
    "executionInfo": {
     "elapsed": 20837,
     "status": "ok",
     "timestamp": 1680268310573,
     "user": {
      "displayName": "arthur simas",
      "userId": "04073960446793716118"
     },
     "user_tz": 180
    },
    "id": "2a30778c-713b-45da-b829-e3ed41eb770b",
    "outputId": "fdd46a50-134f-4ccc-c903-c39da16e1f14",
    "tags": []
   },
   "outputs": [
    {
     "data": {
      "text/html": [
       "<div>\n",
       "<style scoped>\n",
       "    .dataframe tbody tr th:only-of-type {\n",
       "        vertical-align: middle;\n",
       "    }\n",
       "\n",
       "    .dataframe tbody tr th {\n",
       "        vertical-align: top;\n",
       "    }\n",
       "\n",
       "    .dataframe thead th {\n",
       "        text-align: right;\n",
       "    }\n",
       "</style>\n",
       "<table border=\"1\" class=\"dataframe\">\n",
       "  <thead>\n",
       "    <tr style=\"text-align: right;\">\n",
       "      <th></th>\n",
       "      <th></th>\n",
       "      <th>Latency (µs)</th>\n",
       "      <th>Jitter (µs)</th>\n",
       "      <th>RPS</th>\n",
       "      <th>CPU (s)</th>\n",
       "      <th>Memory (MB)</th>\n",
       "    </tr>\n",
       "    <tr>\n",
       "      <th>Service Mesh</th>\n",
       "      <th>Mode</th>\n",
       "      <th></th>\n",
       "      <th></th>\n",
       "      <th></th>\n",
       "      <th></th>\n",
       "      <th></th>\n",
       "    </tr>\n",
       "  </thead>\n",
       "  <tbody>\n",
       "    <tr>\n",
       "      <th rowspan=\"2\" valign=\"top\">cilium</th>\n",
       "      <th>Baseline</th>\n",
       "      <td>118.5</td>\n",
       "      <td>88.0</td>\n",
       "      <td>9685.2</td>\n",
       "      <td>104.9</td>\n",
       "      <td>1325.7</td>\n",
       "    </tr>\n",
       "    <tr>\n",
       "      <th>eSeMeshA</th>\n",
       "      <td>91.4 (\\textbf{-22.9\\%})</td>\n",
       "      <td>101.7 (\\textbf{15.6\\%})</td>\n",
       "      <td>13058.0 (\\textbf{34.8\\%})</td>\n",
       "      <td>92.3 (\\textbf{-12.1\\%})</td>\n",
       "      <td>1352.4 (\\textbf{2.0\\%})</td>\n",
       "    </tr>\n",
       "    <tr>\n",
       "      <th rowspan=\"2\" valign=\"top\">istio-ambient</th>\n",
       "      <th>Baseline</th>\n",
       "      <td>140.5</td>\n",
       "      <td>101.8</td>\n",
       "      <td>8172.3</td>\n",
       "      <td>132.2</td>\n",
       "      <td>1660.7</td>\n",
       "    </tr>\n",
       "    <tr>\n",
       "      <th>eSeMeshA</th>\n",
       "      <td>91.1 (\\textbf{-35.2\\%})</td>\n",
       "      <td>113.4 (\\textbf{11.4\\%})</td>\n",
       "      <td>13274.4 (\\textbf{62.4\\%})</td>\n",
       "      <td>103.2 (\\textbf{-21.9\\%})</td>\n",
       "      <td>1677.7 (\\textbf{1.0\\%})</td>\n",
       "    </tr>\n",
       "    <tr>\n",
       "      <th rowspan=\"2\" valign=\"top\">istio-sidecar</th>\n",
       "      <th>Baseline</th>\n",
       "      <td>551.5</td>\n",
       "      <td>278.9</td>\n",
       "      <td>2049.1</td>\n",
       "      <td>357.8</td>\n",
       "      <td>1645.7</td>\n",
       "    </tr>\n",
       "    <tr>\n",
       "      <th>eSeMeshA</th>\n",
       "      <td>320.4 (\\textbf{-41.9\\%})</td>\n",
       "      <td>179.0 (\\textbf{-35.8\\%})</td>\n",
       "      <td>3502.1 (\\textbf{70.9\\%})</td>\n",
       "      <td>274.7 (\\textbf{-23.2\\%})</td>\n",
       "      <td>1667.6 (\\textbf{1.3\\%})</td>\n",
       "    </tr>\n",
       "    <tr>\n",
       "      <th rowspan=\"2\" valign=\"top\">none</th>\n",
       "      <th>Baseline</th>\n",
       "      <td>139.8</td>\n",
       "      <td>96.1</td>\n",
       "      <td>8186.1</td>\n",
       "      <td>110.5</td>\n",
       "      <td>1380.2</td>\n",
       "    </tr>\n",
       "    <tr>\n",
       "      <th>eSeMeshA</th>\n",
       "      <td>91.2 (\\textbf{-34.8\\%})</td>\n",
       "      <td>94.8 (\\textbf{-1.4\\%})</td>\n",
       "      <td>13104.6 (\\textbf{60.1\\%})</td>\n",
       "      <td>92.6 (\\textbf{-16.2\\%})</td>\n",
       "      <td>1411.4 (\\textbf{2.3\\%})</td>\n",
       "    </tr>\n",
       "  </tbody>\n",
       "</table>\n",
       "</div>"
      ],
      "text/plain": [
       "                                    Latency (µs)               Jitter (µs)  \\\n",
       "Service Mesh  Mode                                                           \n",
       "cilium        Baseline                     118.5                      88.0   \n",
       "              eSeMeshA   91.4 (\\textbf{-22.9\\%})   101.7 (\\textbf{15.6\\%})   \n",
       "istio-ambient Baseline                     140.5                     101.8   \n",
       "              eSeMeshA   91.1 (\\textbf{-35.2\\%})   113.4 (\\textbf{11.4\\%})   \n",
       "istio-sidecar Baseline                     551.5                     278.9   \n",
       "              eSeMeshA  320.4 (\\textbf{-41.9\\%})  179.0 (\\textbf{-35.8\\%})   \n",
       "none          Baseline                     139.8                      96.1   \n",
       "              eSeMeshA   91.2 (\\textbf{-34.8\\%})    94.8 (\\textbf{-1.4\\%})   \n",
       "\n",
       "                                              RPS                   CPU (s)  \\\n",
       "Service Mesh  Mode                                                            \n",
       "cilium        Baseline                     9685.2                     104.9   \n",
       "              eSeMeshA  13058.0 (\\textbf{34.8\\%})   92.3 (\\textbf{-12.1\\%})   \n",
       "istio-ambient Baseline                     8172.3                     132.2   \n",
       "              eSeMeshA  13274.4 (\\textbf{62.4\\%})  103.2 (\\textbf{-21.9\\%})   \n",
       "istio-sidecar Baseline                     2049.1                     357.8   \n",
       "              eSeMeshA   3502.1 (\\textbf{70.9\\%})  274.7 (\\textbf{-23.2\\%})   \n",
       "none          Baseline                     8186.1                     110.5   \n",
       "              eSeMeshA  13104.6 (\\textbf{60.1\\%})   92.6 (\\textbf{-16.2\\%})   \n",
       "\n",
       "                                    Memory (MB)  \n",
       "Service Mesh  Mode                               \n",
       "cilium        Baseline                   1325.7  \n",
       "              eSeMeshA  1352.4 (\\textbf{2.0\\%})  \n",
       "istio-ambient Baseline                   1660.7  \n",
       "              eSeMeshA  1677.7 (\\textbf{1.0\\%})  \n",
       "istio-sidecar Baseline                   1645.7  \n",
       "              eSeMeshA  1667.6 (\\textbf{1.3\\%})  \n",
       "none          Baseline                   1380.2  \n",
       "              eSeMeshA  1411.4 (\\textbf{2.3\\%})  "
      ]
     },
     "execution_count": 36,
     "metadata": {},
     "output_type": "execute_result"
    }
   ],
   "source": [
    "summary = pd.DataFrame({\n",
    "    'Latency (µs)': summary_format(summary_latency_r, 'avg'),\n",
    "    'Jitter (µs)': summary_format(summary_jitter_r, 'std'),\n",
    "    'RPS': summary_format(summary_rps_r, 'avg'),\n",
    "    'CPU (s)': summary_format(summary_cpu_r, 'total'),\n",
    "    'Memory (MB)': summary_format(summary_memory_r, 'avg'),\n",
    "})\n",
    "\n",
    "summary.index = pd.MultiIndex.from_tuples([ (a, {'disabled': 'Baseline', 'enabled': 'eSeMeshA'}[b]) for (a, b) in summary_latency.index.to_numpy()], names=['Service Mesh', 'Mode'])\n",
    "\n",
    "summary\n",
    "#print_latex(summary)"
   ]
  }
 ],
 "metadata": {
  "colab": {
   "provenance": []
  },
  "kernelspec": {
   "display_name": "Python 3 (ipykernel)",
   "language": "python",
   "name": "python3"
  },
  "language_info": {
   "codemirror_mode": {
    "name": "ipython",
    "version": 3
   },
   "file_extension": ".py",
   "mimetype": "text/x-python",
   "name": "python",
   "nbconvert_exporter": "python",
   "pygments_lexer": "ipython3",
   "version": "3.12.8"
  }
 },
 "nbformat": 4,
 "nbformat_minor": 5
}
