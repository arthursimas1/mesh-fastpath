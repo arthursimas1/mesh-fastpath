{
 "cells": [
  {
   "cell_type": "code",
   "execution_count": 1,
   "id": "cc9c853e-9941-4f9e-9981-da0efa724948",
   "metadata": {
    "executionInfo": {
     "elapsed": 935,
     "status": "ok",
     "timestamp": 1680268289741,
     "user": {
      "displayName": "arthur simas",
      "userId": "04073960446793716118"
     },
     "user_tz": 180
    },
    "id": "6a258a89-0e64-4f4c-bcc2-b17deca36de8",
    "tags": []
   },
   "outputs": [],
   "source": [
    "from IPython.display import display, Markdown\n",
    "import pandas as pd\n",
    "import numpy as np\n",
    "import seaborn as sns\n",
    "import seaborn.objects as so\n",
    "import os\n",
    "\n",
    "import random\n",
    "\n",
    "random.seed(42)\n",
    "pd.set_option('display.max_columns', None)\n",
    "\n",
    "def count_decimal_places(num, *, remove_single_zero=False):\n",
    "    str_num = str(num)\n",
    "    if remove_single_zero and str_num.endswith('.0'):\n",
    "        return 0\n",
    "    if '.' in str_num:\n",
    "        return len(str_num) - str_num.index('.') - 1\n",
    "    else:\n",
    "        return 0\n",
    "\n",
    "pd.set_option('display.float_format', lambda x: '{:.{}f}'.format(x, min(count_decimal_places(x), 6)))"
   ]
  },
  {
   "cell_type": "code",
   "execution_count": 34,
   "id": "0179b3c8-c47b-4683-bc33-56e91868c7e7",
   "metadata": {
    "colab": {
     "base_uri": "https://localhost:8080/",
     "height": 955
    },
    "executionInfo": {
     "elapsed": 20837,
     "status": "ok",
     "timestamp": 1680268310573,
     "user": {
      "displayName": "arthur simas",
      "userId": "04073960446793716118"
     },
     "user_tz": 180
    },
    "id": "2a30778c-713b-45da-b829-e3ed41eb770b",
    "outputId": "fdd46a50-134f-4ccc-c903-c39da16e1f14",
    "tags": []
   },
   "outputs": [
    {
     "data": {
      "text/html": [
       "<div>\n",
       "<style scoped>\n",
       "    .dataframe tbody tr th:only-of-type {\n",
       "        vertical-align: middle;\n",
       "    }\n",
       "\n",
       "    .dataframe tbody tr th {\n",
       "        vertical-align: top;\n",
       "    }\n",
       "\n",
       "    .dataframe thead th {\n",
       "        text-align: right;\n",
       "    }\n",
       "</style>\n",
       "<table border=\"1\" class=\"dataframe\">\n",
       "  <thead>\n",
       "    <tr style=\"text-align: right;\">\n",
       "      <th></th>\n",
       "      <th>Workload</th>\n",
       "      <th>Iteration</th>\n",
       "      <th>Mode</th>\n",
       "      <th>Scenario</th>\n",
       "      <th>Latency</th>\n",
       "      <th>Sequence</th>\n",
       "    </tr>\n",
       "  </thead>\n",
       "  <tbody>\n",
       "    <tr>\n",
       "      <th>0</th>\n",
       "      <td>ping-echo</td>\n",
       "      <td>6.0</td>\n",
       "      <td>none</td>\n",
       "      <td>baseline</td>\n",
       "      <td>677806.0</td>\n",
       "      <td>0.0</td>\n",
       "    </tr>\n",
       "    <tr>\n",
       "      <th>1</th>\n",
       "      <td>ping-echo</td>\n",
       "      <td>6.0</td>\n",
       "      <td>none</td>\n",
       "      <td>baseline</td>\n",
       "      <td>420651.0</td>\n",
       "      <td>1.0</td>\n",
       "    </tr>\n",
       "    <tr>\n",
       "      <th>2</th>\n",
       "      <td>ping-echo</td>\n",
       "      <td>6.0</td>\n",
       "      <td>none</td>\n",
       "      <td>baseline</td>\n",
       "      <td>451801.0</td>\n",
       "      <td>2.0</td>\n",
       "    </tr>\n",
       "    <tr>\n",
       "      <th>3</th>\n",
       "      <td>ping-echo</td>\n",
       "      <td>6.0</td>\n",
       "      <td>none</td>\n",
       "      <td>baseline</td>\n",
       "      <td>447191.0</td>\n",
       "      <td>3.0</td>\n",
       "    </tr>\n",
       "    <tr>\n",
       "      <th>4</th>\n",
       "      <td>ping-echo</td>\n",
       "      <td>6.0</td>\n",
       "      <td>none</td>\n",
       "      <td>baseline</td>\n",
       "      <td>434968.0</td>\n",
       "      <td>4.0</td>\n",
       "    </tr>\n",
       "    <tr>\n",
       "      <th>...</th>\n",
       "      <td>...</td>\n",
       "      <td>...</td>\n",
       "      <td>...</td>\n",
       "      <td>...</td>\n",
       "      <td>...</td>\n",
       "      <td>...</td>\n",
       "    </tr>\n",
       "    <tr>\n",
       "      <th>8758</th>\n",
       "      <td>ping-echo</td>\n",
       "      <td>7.0</td>\n",
       "      <td>ztunnel</td>\n",
       "      <td>optimization</td>\n",
       "      <td>410389.0</td>\n",
       "      <td>2070.0</td>\n",
       "    </tr>\n",
       "    <tr>\n",
       "      <th>8759</th>\n",
       "      <td>ping-echo</td>\n",
       "      <td>7.0</td>\n",
       "      <td>ztunnel</td>\n",
       "      <td>optimization</td>\n",
       "      <td>618586.0</td>\n",
       "      <td>2071.0</td>\n",
       "    </tr>\n",
       "    <tr>\n",
       "      <th>8760</th>\n",
       "      <td>ping-echo</td>\n",
       "      <td>7.0</td>\n",
       "      <td>ztunnel</td>\n",
       "      <td>optimization</td>\n",
       "      <td>507120.0</td>\n",
       "      <td>2072.0</td>\n",
       "    </tr>\n",
       "    <tr>\n",
       "      <th>8761</th>\n",
       "      <td>ping-echo</td>\n",
       "      <td>7.0</td>\n",
       "      <td>ztunnel</td>\n",
       "      <td>optimization</td>\n",
       "      <td>239557.0</td>\n",
       "      <td>2073.0</td>\n",
       "    </tr>\n",
       "    <tr>\n",
       "      <th>8762</th>\n",
       "      <td>ping-echo</td>\n",
       "      <td>7.0</td>\n",
       "      <td>ztunnel</td>\n",
       "      <td>optimization</td>\n",
       "      <td>287887.0</td>\n",
       "      <td>2074.0</td>\n",
       "    </tr>\n",
       "  </tbody>\n",
       "</table>\n",
       "<p>8763 rows × 6 columns</p>\n",
       "</div>"
      ],
      "text/plain": [
       "       Workload  Iteration     Mode      Scenario  Latency  Sequence\n",
       "0     ping-echo        6.0     none      baseline 677806.0       0.0\n",
       "1     ping-echo        6.0     none      baseline 420651.0       1.0\n",
       "2     ping-echo        6.0     none      baseline 451801.0       2.0\n",
       "3     ping-echo        6.0     none      baseline 447191.0       3.0\n",
       "4     ping-echo        6.0     none      baseline 434968.0       4.0\n",
       "...         ...        ...      ...           ...      ...       ...\n",
       "8758  ping-echo        7.0  ztunnel  optimization 410389.0    2070.0\n",
       "8759  ping-echo        7.0  ztunnel  optimization 618586.0    2071.0\n",
       "8760  ping-echo        7.0  ztunnel  optimization 507120.0    2072.0\n",
       "8761  ping-echo        7.0  ztunnel  optimization 239557.0    2073.0\n",
       "8762  ping-echo        7.0  ztunnel  optimization 287887.0    2074.0\n",
       "\n",
       "[8763 rows x 6 columns]"
      ]
     },
     "execution_count": 34,
     "metadata": {},
     "output_type": "execute_result"
    }
   ],
   "source": [
    "def load_dataset_ping_echo(path, params):\n",
    "    if path.endswith('.v1.txt'):\n",
    "        data = pd.read_csv(path, sep=' ', header=None, names=['Latency', 'Sequence'], skiprows=lambda n: not n % 2)\n",
    "    elif path.endswith('.v2.txt'):\n",
    "        data = pd.read_csv(path, sep=' ', header=None, names=['Latency', 'Sequence'])\n",
    "    elif path.endswith('.v3.txt'):\n",
    "        data = pd.read_csv(path, sep=',', header=None, names=['Sequence', 'Latency'])\n",
    "    else:\n",
    "        return pd.DataFrame()\n",
    "\n",
    "    data['Workload'] = params['Workload']\n",
    "    data['Mode'] = params['Mode']\n",
    "    data['Scenario'] = params['Scenario']\n",
    "    data['Iteration'] = params['Iteration']\n",
    "    return data\n",
    "\n",
    "def load_dataset(path, params):\n",
    "    if params['Workload'] == 'ping-echo':\n",
    "        return load_dataset_ping_echo(path, params)\n",
    "    return pd.DataFrame()\n",
    "\n",
    "def log_parameters_from_filename(filename):\n",
    "    parts = filename.split('-')\n",
    "\n",
    "    if len(parts) != 4: return None\n",
    "\n",
    "    return {\n",
    "        'Mode': parts[1],\n",
    "        'Scenario': parts[2],\n",
    "        'Iteration': int(parts[3].split('.')[0])\n",
    "    }\n",
    "\n",
    "WORKLOADS_BASE = '../workloads'\n",
    "\n",
    "df_list = [\n",
    "    pd.DataFrame({ k: [] for k in ['Workload', 'Iteration', 'Mode', 'Scenario', 'Latency'] }),\n",
    "]\n",
    "\n",
    "for workload in os.listdir(WORKLOADS_BASE):\n",
    "    logs_path = os.path.join(WORKLOADS_BASE, workload, 'logs')\n",
    "\n",
    "    if not os.path.isdir(logs_path): continue\n",
    "\n",
    "    for log_file in os.listdir(logs_path):\n",
    "        log_parameters = log_parameters_from_filename(log_file)\n",
    "\n",
    "        if log_parameters is None: continue\n",
    "\n",
    "        log_parameters['Workload'] = workload\n",
    "        df = load_dataset(os.path.join(logs_path, log_file), log_parameters)\n",
    "        df_list.append(df)\n",
    "\n",
    "df = pd.concat(df_list, ignore_index=True)\n",
    "df"
   ]
  },
  {
   "cell_type": "code",
   "execution_count": 35,
   "id": "b6310192-d5ad-4972-967f-8dc60ee885df",
   "metadata": {
    "colab": {
     "base_uri": "https://localhost:8080/",
     "height": 955
    },
    "executionInfo": {
     "elapsed": 20837,
     "status": "ok",
     "timestamp": 1680268310573,
     "user": {
      "displayName": "arthur simas",
      "userId": "04073960446793716118"
     },
     "user_tz": 180
    },
    "id": "2a30778c-713b-45da-b829-e3ed41eb770b",
    "outputId": "fdd46a50-134f-4ccc-c903-c39da16e1f14",
    "tags": []
   },
   "outputs": [],
   "source": [
    "df['Scenario'] = df.Scenario.str.capitalize()\n",
    "df['Mode'] = df.Mode.map(lambda x: {'none': 'No Service Mesh', 'ztunnel': 'Ambient Mesh'}[x])"
   ]
  },
  {
   "cell_type": "code",
   "execution_count": 37,
   "id": "23de6164-b02e-480a-8cf2-f09d925afd94",
   "metadata": {
    "colab": {
     "base_uri": "https://localhost:8080/",
     "height": 955
    },
    "executionInfo": {
     "elapsed": 20837,
     "status": "ok",
     "timestamp": 1680268310573,
     "user": {
      "displayName": "arthur simas",
      "userId": "04073960446793716118"
     },
     "user_tz": 180
    },
    "id": "2a30778c-713b-45da-b829-e3ed41eb770b",
    "outputId": "fdd46a50-134f-4ccc-c903-c39da16e1f14",
    "tags": []
   },
   "outputs": [
    {
     "data": {
      "text/html": [
       "<div>\n",
       "<style scoped>\n",
       "    .dataframe tbody tr th:only-of-type {\n",
       "        vertical-align: middle;\n",
       "    }\n",
       "\n",
       "    .dataframe tbody tr th {\n",
       "        vertical-align: top;\n",
       "    }\n",
       "\n",
       "    .dataframe thead th {\n",
       "        text-align: right;\n",
       "    }\n",
       "</style>\n",
       "<table border=\"1\" class=\"dataframe\">\n",
       "  <thead>\n",
       "    <tr style=\"text-align: right;\">\n",
       "      <th></th>\n",
       "      <th></th>\n",
       "      <th>Mode</th>\n",
       "    </tr>\n",
       "    <tr>\n",
       "      <th>Mode</th>\n",
       "      <th>Scenario</th>\n",
       "      <th></th>\n",
       "    </tr>\n",
       "  </thead>\n",
       "  <tbody>\n",
       "    <tr>\n",
       "      <th rowspan=\"2\" valign=\"top\">Ambient Mesh</th>\n",
       "      <th>Baseline</th>\n",
       "      <td>2129</td>\n",
       "    </tr>\n",
       "    <tr>\n",
       "      <th>Optimization</th>\n",
       "      <td>2075</td>\n",
       "    </tr>\n",
       "    <tr>\n",
       "      <th rowspan=\"2\" valign=\"top\">No Service Mesh</th>\n",
       "      <th>Baseline</th>\n",
       "      <td>2413</td>\n",
       "    </tr>\n",
       "    <tr>\n",
       "      <th>Optimization</th>\n",
       "      <td>2146</td>\n",
       "    </tr>\n",
       "  </tbody>\n",
       "</table>\n",
       "</div>"
      ],
      "text/plain": [
       "                              Mode\n",
       "Mode            Scenario          \n",
       "Ambient Mesh    Baseline      2129\n",
       "                Optimization  2075\n",
       "No Service Mesh Baseline      2413\n",
       "                Optimization  2146"
      ]
     },
     "execution_count": 37,
     "metadata": {},
     "output_type": "execute_result"
    }
   ],
   "source": [
    "df.groupby(['Mode', 'Scenario'])[['Mode']].count()"
   ]
  },
  {
   "cell_type": "code",
   "execution_count": 44,
   "id": "69291d1d-dd55-46ec-9ca1-801708a92821",
   "metadata": {
    "colab": {
     "base_uri": "https://localhost:8080/",
     "height": 955
    },
    "executionInfo": {
     "elapsed": 20837,
     "status": "ok",
     "timestamp": 1680268310573,
     "user": {
      "displayName": "arthur simas",
      "userId": "04073960446793716118"
     },
     "user_tz": 180
    },
    "id": "2a30778c-713b-45da-b829-e3ed41eb770b",
    "outputId": "fdd46a50-134f-4ccc-c903-c39da16e1f14",
    "tags": []
   },
   "outputs": [
    {
     "data": {
      "text/html": [
       "<div>\n",
       "<style scoped>\n",
       "    .dataframe tbody tr th:only-of-type {\n",
       "        vertical-align: middle;\n",
       "    }\n",
       "\n",
       "    .dataframe tbody tr th {\n",
       "        vertical-align: top;\n",
       "    }\n",
       "\n",
       "    .dataframe thead th {\n",
       "        text-align: right;\n",
       "    }\n",
       "</style>\n",
       "<table border=\"1\" class=\"dataframe\">\n",
       "  <thead>\n",
       "    <tr style=\"text-align: right;\">\n",
       "      <th></th>\n",
       "      <th>Workload</th>\n",
       "      <th>Iteration</th>\n",
       "      <th>Mode</th>\n",
       "      <th>Scenario</th>\n",
       "      <th>Latency</th>\n",
       "      <th>Sequence</th>\n",
       "      <th>Latency_diff</th>\n",
       "    </tr>\n",
       "  </thead>\n",
       "  <tbody>\n",
       "    <tr>\n",
       "      <th>0</th>\n",
       "      <td>ping-echo</td>\n",
       "      <td>6.0</td>\n",
       "      <td>No Service Mesh</td>\n",
       "      <td>Baseline</td>\n",
       "      <td>677806.0</td>\n",
       "      <td>0.0</td>\n",
       "      <td>0.0</td>\n",
       "    </tr>\n",
       "    <tr>\n",
       "      <th>1</th>\n",
       "      <td>ping-echo</td>\n",
       "      <td>6.0</td>\n",
       "      <td>No Service Mesh</td>\n",
       "      <td>Baseline</td>\n",
       "      <td>420651.0</td>\n",
       "      <td>1.0</td>\n",
       "      <td>257155.0</td>\n",
       "    </tr>\n",
       "    <tr>\n",
       "      <th>2</th>\n",
       "      <td>ping-echo</td>\n",
       "      <td>6.0</td>\n",
       "      <td>No Service Mesh</td>\n",
       "      <td>Baseline</td>\n",
       "      <td>451801.0</td>\n",
       "      <td>2.0</td>\n",
       "      <td>31150.0</td>\n",
       "    </tr>\n",
       "    <tr>\n",
       "      <th>3</th>\n",
       "      <td>ping-echo</td>\n",
       "      <td>6.0</td>\n",
       "      <td>No Service Mesh</td>\n",
       "      <td>Baseline</td>\n",
       "      <td>447191.0</td>\n",
       "      <td>3.0</td>\n",
       "      <td>4610.0</td>\n",
       "    </tr>\n",
       "    <tr>\n",
       "      <th>4</th>\n",
       "      <td>ping-echo</td>\n",
       "      <td>6.0</td>\n",
       "      <td>No Service Mesh</td>\n",
       "      <td>Baseline</td>\n",
       "      <td>434968.0</td>\n",
       "      <td>4.0</td>\n",
       "      <td>12223.0</td>\n",
       "    </tr>\n",
       "    <tr>\n",
       "      <th>...</th>\n",
       "      <td>...</td>\n",
       "      <td>...</td>\n",
       "      <td>...</td>\n",
       "      <td>...</td>\n",
       "      <td>...</td>\n",
       "      <td>...</td>\n",
       "      <td>...</td>\n",
       "    </tr>\n",
       "    <tr>\n",
       "      <th>8758</th>\n",
       "      <td>ping-echo</td>\n",
       "      <td>7.0</td>\n",
       "      <td>Ambient Mesh</td>\n",
       "      <td>Optimization</td>\n",
       "      <td>410389.0</td>\n",
       "      <td>2070.0</td>\n",
       "      <td>304649.0</td>\n",
       "    </tr>\n",
       "    <tr>\n",
       "      <th>8759</th>\n",
       "      <td>ping-echo</td>\n",
       "      <td>7.0</td>\n",
       "      <td>Ambient Mesh</td>\n",
       "      <td>Optimization</td>\n",
       "      <td>618586.0</td>\n",
       "      <td>2071.0</td>\n",
       "      <td>208197.0</td>\n",
       "    </tr>\n",
       "    <tr>\n",
       "      <th>8760</th>\n",
       "      <td>ping-echo</td>\n",
       "      <td>7.0</td>\n",
       "      <td>Ambient Mesh</td>\n",
       "      <td>Optimization</td>\n",
       "      <td>507120.0</td>\n",
       "      <td>2072.0</td>\n",
       "      <td>111466.0</td>\n",
       "    </tr>\n",
       "    <tr>\n",
       "      <th>8761</th>\n",
       "      <td>ping-echo</td>\n",
       "      <td>7.0</td>\n",
       "      <td>Ambient Mesh</td>\n",
       "      <td>Optimization</td>\n",
       "      <td>239557.0</td>\n",
       "      <td>2073.0</td>\n",
       "      <td>267563.0</td>\n",
       "    </tr>\n",
       "    <tr>\n",
       "      <th>8762</th>\n",
       "      <td>ping-echo</td>\n",
       "      <td>7.0</td>\n",
       "      <td>Ambient Mesh</td>\n",
       "      <td>Optimization</td>\n",
       "      <td>287887.0</td>\n",
       "      <td>2074.0</td>\n",
       "      <td>48330.0</td>\n",
       "    </tr>\n",
       "  </tbody>\n",
       "</table>\n",
       "<p>8763 rows × 7 columns</p>\n",
       "</div>"
      ],
      "text/plain": [
       "       Workload  Iteration             Mode      Scenario  Latency  Sequence  \\\n",
       "0     ping-echo        6.0  No Service Mesh      Baseline 677806.0       0.0   \n",
       "1     ping-echo        6.0  No Service Mesh      Baseline 420651.0       1.0   \n",
       "2     ping-echo        6.0  No Service Mesh      Baseline 451801.0       2.0   \n",
       "3     ping-echo        6.0  No Service Mesh      Baseline 447191.0       3.0   \n",
       "4     ping-echo        6.0  No Service Mesh      Baseline 434968.0       4.0   \n",
       "...         ...        ...              ...           ...      ...       ...   \n",
       "8758  ping-echo        7.0     Ambient Mesh  Optimization 410389.0    2070.0   \n",
       "8759  ping-echo        7.0     Ambient Mesh  Optimization 618586.0    2071.0   \n",
       "8760  ping-echo        7.0     Ambient Mesh  Optimization 507120.0    2072.0   \n",
       "8761  ping-echo        7.0     Ambient Mesh  Optimization 239557.0    2073.0   \n",
       "8762  ping-echo        7.0     Ambient Mesh  Optimization 287887.0    2074.0   \n",
       "\n",
       "      Latency_diff  \n",
       "0              0.0  \n",
       "1         257155.0  \n",
       "2          31150.0  \n",
       "3           4610.0  \n",
       "4          12223.0  \n",
       "...            ...  \n",
       "8758      304649.0  \n",
       "8759      208197.0  \n",
       "8760      111466.0  \n",
       "8761      267563.0  \n",
       "8762       48330.0  \n",
       "\n",
       "[8763 rows x 7 columns]"
      ]
     },
     "execution_count": 44,
     "metadata": {},
     "output_type": "execute_result"
    }
   ],
   "source": [
    "df['Latency_diff'] = df.groupby(['Mode', 'Scenario']).Latency.diff().abs().fillna(0)\n",
    "df"
   ]
  },
  {
   "cell_type": "code",
   "execution_count": 66,
   "id": "71434367-66e2-4c94-b324-c7189ca13c35",
   "metadata": {
    "colab": {
     "base_uri": "https://localhost:8080/",
     "height": 955
    },
    "executionInfo": {
     "elapsed": 20837,
     "status": "ok",
     "timestamp": 1680268310573,
     "user": {
      "displayName": "arthur simas",
      "userId": "04073960446793716118"
     },
     "user_tz": 180
    },
    "id": "2a30778c-713b-45da-b829-e3ed41eb770b",
    "outputId": "fdd46a50-134f-4ccc-c903-c39da16e1f14",
    "tags": []
   },
   "outputs": [
    {
     "data": {
      "text/plain": [
       "(np.float64(745289.7999999998), np.float64(1191078.0))"
      ]
     },
     "execution_count": 66,
     "metadata": {},
     "output_type": "execute_result"
    }
   ],
   "source": [
    "df.Latency.quantile(.99), df.Latency.max()"
   ]
  },
  {
   "cell_type": "code",
   "execution_count": 40,
   "id": "62c083bc-9596-40cc-8e9b-4cb390114aa4",
   "metadata": {
    "colab": {
     "base_uri": "https://localhost:8080/",
     "height": 955
    },
    "executionInfo": {
     "elapsed": 20837,
     "status": "ok",
     "timestamp": 1680268310573,
     "user": {
      "displayName": "arthur simas",
      "userId": "04073960446793716118"
     },
     "user_tz": 180
    },
    "id": "2a30778c-713b-45da-b829-e3ed41eb770b",
    "outputId": "fdd46a50-134f-4ccc-c903-c39da16e1f14",
    "tags": []
   },
   "outputs": [],
   "source": [
    "latency_p99 = df[df.Latency <= df.Latency.quantile(.99)]"
   ]
  },
  {
   "cell_type": "code",
   "execution_count": 41,
   "id": "78ab74ee-1f36-402c-bd2d-b2eef45e4908",
   "metadata": {
    "colab": {
     "base_uri": "https://localhost:8080/",
     "height": 955
    },
    "executionInfo": {
     "elapsed": 20837,
     "status": "ok",
     "timestamp": 1680268310573,
     "user": {
      "displayName": "arthur simas",
      "userId": "04073960446793716118"
     },
     "user_tz": 180
    },
    "id": "2a30778c-713b-45da-b829-e3ed41eb770b",
    "outputId": "fdd46a50-134f-4ccc-c903-c39da16e1f14",
    "tags": []
   },
   "outputs": [
    {
     "data": {
      "text/html": [
       "<div>\n",
       "<style scoped>\n",
       "    .dataframe tbody tr th:only-of-type {\n",
       "        vertical-align: middle;\n",
       "    }\n",
       "\n",
       "    .dataframe tbody tr th {\n",
       "        vertical-align: top;\n",
       "    }\n",
       "\n",
       "    .dataframe thead th {\n",
       "        text-align: right;\n",
       "    }\n",
       "</style>\n",
       "<table border=\"1\" class=\"dataframe\">\n",
       "  <thead>\n",
       "    <tr style=\"text-align: right;\">\n",
       "      <th></th>\n",
       "      <th></th>\n",
       "      <th>p25</th>\n",
       "      <th>p50</th>\n",
       "      <th>p75</th>\n",
       "    </tr>\n",
       "    <tr>\n",
       "      <th>Mode</th>\n",
       "      <th>Scenario</th>\n",
       "      <th></th>\n",
       "      <th></th>\n",
       "      <th></th>\n",
       "    </tr>\n",
       "  </thead>\n",
       "  <tbody>\n",
       "    <tr>\n",
       "      <th rowspan=\"2\" valign=\"top\">Ambient Mesh</th>\n",
       "      <th>Baseline</th>\n",
       "      <td>442691.0</td>\n",
       "      <td>485818.0</td>\n",
       "      <td>537116.5</td>\n",
       "    </tr>\n",
       "    <tr>\n",
       "      <th>Optimization</th>\n",
       "      <td>351513.0</td>\n",
       "      <td>382103.0</td>\n",
       "      <td>423659.0</td>\n",
       "    </tr>\n",
       "    <tr>\n",
       "      <th rowspan=\"2\" valign=\"top\">No Service Mesh</th>\n",
       "      <th>Baseline</th>\n",
       "      <td>443983.0</td>\n",
       "      <td>481832.0</td>\n",
       "      <td>529713.5</td>\n",
       "    </tr>\n",
       "    <tr>\n",
       "      <th>Optimization</th>\n",
       "      <td>368605.5</td>\n",
       "      <td>399145.0</td>\n",
       "      <td>452569.75</td>\n",
       "    </tr>\n",
       "  </tbody>\n",
       "</table>\n",
       "</div>"
      ],
      "text/plain": [
       "                                  p25      p50       p75\n",
       "Mode            Scenario                                \n",
       "Ambient Mesh    Baseline     442691.0 485818.0  537116.5\n",
       "                Optimization 351513.0 382103.0  423659.0\n",
       "No Service Mesh Baseline     443983.0 481832.0  529713.5\n",
       "                Optimization 368605.5 399145.0 452569.75"
      ]
     },
     "execution_count": 41,
     "metadata": {},
     "output_type": "execute_result"
    }
   ],
   "source": [
    "latency_p99.groupby(['Mode', 'Scenario']).Latency.agg(\n",
    "    p25=lambda column: column.quantile(.25),\n",
    "    p50=lambda column: column.quantile(.50),\n",
    "    p75=lambda column: column.quantile(.75),\n",
    ")"
   ]
  },
  {
   "cell_type": "code",
   "execution_count": 42,
   "id": "392a684f-0c99-4295-b3c7-e16e3a66e5b2",
   "metadata": {
    "tags": []
   },
   "outputs": [
    {
     "data": {
      "text/plain": [
       "Mode             Scenario    \n",
       "Ambient Mesh     Baseline       88440.404120\n",
       "                 Optimization   79792.937463\n",
       "No Service Mesh  Baseline       83247.877712\n",
       "                 Optimization   80861.114336\n",
       "Name: Latency, dtype: float64"
      ]
     },
     "execution_count": 42,
     "metadata": {},
     "output_type": "execute_result"
    }
   ],
   "source": [
    "jitter = latency_p99.groupby(['Mode', 'Scenario']).Latency.std(ddof=0)\n",
    "jitter"
   ]
  },
  {
   "cell_type": "code",
   "execution_count": 45,
   "id": "3feeff17-303f-4e98-afd7-fef8a6f8e419",
   "metadata": {
    "colab": {
     "base_uri": "https://localhost:8080/",
     "height": 955
    },
    "executionInfo": {
     "elapsed": 20837,
     "status": "ok",
     "timestamp": 1680268310573,
     "user": {
      "displayName": "arthur simas",
      "userId": "04073960446793716118"
     },
     "user_tz": 180
    },
    "id": "2a30778c-713b-45da-b829-e3ed41eb770b",
    "outputId": "fdd46a50-134f-4ccc-c903-c39da16e1f14",
    "tags": []
   },
   "outputs": [],
   "source": [
    "latency_diff_p99 = df[df.Latency_diff <= df.Latency_diff.quantile(.99)]"
   ]
  },
  {
   "cell_type": "code",
   "execution_count": 46,
   "id": "2049d557-3528-4ab1-8b02-90a1873e824d",
   "metadata": {
    "colab": {
     "base_uri": "https://localhost:8080/",
     "height": 955
    },
    "executionInfo": {
     "elapsed": 20837,
     "status": "ok",
     "timestamp": 1680268310573,
     "user": {
      "displayName": "arthur simas",
      "userId": "04073960446793716118"
     },
     "user_tz": 180
    },
    "id": "2a30778c-713b-45da-b829-e3ed41eb770b",
    "outputId": "fdd46a50-134f-4ccc-c903-c39da16e1f14",
    "tags": []
   },
   "outputs": [
    {
     "name": "stdout",
     "output_type": "stream",
     "text": [
      "removed entries > p99 latency:\n"
     ]
    },
    {
     "data": {
      "text/html": [
       "<div>\n",
       "<style scoped>\n",
       "    .dataframe tbody tr th:only-of-type {\n",
       "        vertical-align: middle;\n",
       "    }\n",
       "\n",
       "    .dataframe tbody tr th {\n",
       "        vertical-align: top;\n",
       "    }\n",
       "\n",
       "    .dataframe thead th {\n",
       "        text-align: right;\n",
       "    }\n",
       "</style>\n",
       "<table border=\"1\" class=\"dataframe\">\n",
       "  <thead>\n",
       "    <tr style=\"text-align: right;\">\n",
       "      <th></th>\n",
       "      <th></th>\n",
       "      <th>Latency</th>\n",
       "    </tr>\n",
       "    <tr>\n",
       "      <th>Mode</th>\n",
       "      <th>Scenario</th>\n",
       "      <th></th>\n",
       "    </tr>\n",
       "  </thead>\n",
       "  <tbody>\n",
       "    <tr>\n",
       "      <th rowspan=\"2\" valign=\"top\">Ambient Mesh</th>\n",
       "      <th>Baseline</th>\n",
       "      <td>30</td>\n",
       "    </tr>\n",
       "    <tr>\n",
       "      <th>Optimization</th>\n",
       "      <td>10</td>\n",
       "    </tr>\n",
       "    <tr>\n",
       "      <th rowspan=\"2\" valign=\"top\">No Service Mesh</th>\n",
       "      <th>Baseline</th>\n",
       "      <td>42</td>\n",
       "    </tr>\n",
       "    <tr>\n",
       "      <th>Optimization</th>\n",
       "      <td>6</td>\n",
       "    </tr>\n",
       "  </tbody>\n",
       "</table>\n",
       "</div>"
      ],
      "text/plain": [
       "                              Latency\n",
       "Mode            Scenario             \n",
       "Ambient Mesh    Baseline           30\n",
       "                Optimization       10\n",
       "No Service Mesh Baseline           42\n",
       "                Optimization        6"
      ]
     },
     "metadata": {},
     "output_type": "display_data"
    },
    {
     "name": "stdout",
     "output_type": "stream",
     "text": [
      "total\n"
     ]
    },
    {
     "data": {
      "text/html": [
       "<div>\n",
       "<style scoped>\n",
       "    .dataframe tbody tr th:only-of-type {\n",
       "        vertical-align: middle;\n",
       "    }\n",
       "\n",
       "    .dataframe tbody tr th {\n",
       "        vertical-align: top;\n",
       "    }\n",
       "\n",
       "    .dataframe thead th {\n",
       "        text-align: right;\n",
       "    }\n",
       "</style>\n",
       "<table border=\"1\" class=\"dataframe\">\n",
       "  <thead>\n",
       "    <tr style=\"text-align: right;\">\n",
       "      <th></th>\n",
       "      <th></th>\n",
       "      <th>Latency</th>\n",
       "    </tr>\n",
       "    <tr>\n",
       "      <th>Mode</th>\n",
       "      <th>Scenario</th>\n",
       "      <th></th>\n",
       "    </tr>\n",
       "  </thead>\n",
       "  <tbody>\n",
       "    <tr>\n",
       "      <th rowspan=\"2\" valign=\"top\">Ambient Mesh</th>\n",
       "      <th>Baseline</th>\n",
       "      <td>2129</td>\n",
       "    </tr>\n",
       "    <tr>\n",
       "      <th>Optimization</th>\n",
       "      <td>2075</td>\n",
       "    </tr>\n",
       "    <tr>\n",
       "      <th rowspan=\"2\" valign=\"top\">No Service Mesh</th>\n",
       "      <th>Baseline</th>\n",
       "      <td>2413</td>\n",
       "    </tr>\n",
       "    <tr>\n",
       "      <th>Optimization</th>\n",
       "      <td>2146</td>\n",
       "    </tr>\n",
       "  </tbody>\n",
       "</table>\n",
       "</div>"
      ],
      "text/plain": [
       "                              Latency\n",
       "Mode            Scenario             \n",
       "Ambient Mesh    Baseline         2129\n",
       "                Optimization     2075\n",
       "No Service Mesh Baseline         2413\n",
       "                Optimization     2146"
      ]
     },
     "metadata": {},
     "output_type": "display_data"
    }
   ],
   "source": [
    "print('removed entries > p99 latency:')\n",
    "display(df.groupby(['Mode', 'Scenario'])[['Latency']].count() - latency_p99.groupby(['Mode', 'Scenario'])[['Latency']].count())\n",
    "\n",
    "print('total')\n",
    "display(df.groupby(['Mode', 'Scenario'])[['Latency']].count())"
   ]
  },
  {
   "cell_type": "code",
   "execution_count": 47,
   "id": "8a3ede20-5dd2-431c-8788-7b27ae2f19bd",
   "metadata": {
    "colab": {
     "base_uri": "https://localhost:8080/",
     "height": 955
    },
    "executionInfo": {
     "elapsed": 20837,
     "status": "ok",
     "timestamp": 1680268310573,
     "user": {
      "displayName": "arthur simas",
      "userId": "04073960446793716118"
     },
     "user_tz": 180
    },
    "id": "2a30778c-713b-45da-b829-e3ed41eb770b",
    "outputId": "fdd46a50-134f-4ccc-c903-c39da16e1f14",
    "tags": []
   },
   "outputs": [
    {
     "data": {
      "text/html": [
       "<div>\n",
       "<style scoped>\n",
       "    .dataframe tbody tr th:only-of-type {\n",
       "        vertical-align: middle;\n",
       "    }\n",
       "\n",
       "    .dataframe tbody tr th {\n",
       "        vertical-align: top;\n",
       "    }\n",
       "\n",
       "    .dataframe thead th {\n",
       "        text-align: right;\n",
       "    }\n",
       "</style>\n",
       "<table border=\"1\" class=\"dataframe\">\n",
       "  <thead>\n",
       "    <tr style=\"text-align: right;\">\n",
       "      <th></th>\n",
       "      <th>Workload</th>\n",
       "      <th>Iteration</th>\n",
       "      <th>Mode</th>\n",
       "      <th>Scenario</th>\n",
       "      <th>Latency</th>\n",
       "      <th>Sequence</th>\n",
       "      <th>Latency_diff</th>\n",
       "    </tr>\n",
       "  </thead>\n",
       "  <tbody>\n",
       "    <tr>\n",
       "      <th>64</th>\n",
       "      <td>ping-echo</td>\n",
       "      <td>6.0</td>\n",
       "      <td>No Service Mesh</td>\n",
       "      <td>Baseline</td>\n",
       "      <td>760287.0</td>\n",
       "      <td>64.0</td>\n",
       "      <td>123409.0</td>\n",
       "    </tr>\n",
       "    <tr>\n",
       "      <th>67</th>\n",
       "      <td>ping-echo</td>\n",
       "      <td>6.0</td>\n",
       "      <td>No Service Mesh</td>\n",
       "      <td>Baseline</td>\n",
       "      <td>774116.0</td>\n",
       "      <td>67.0</td>\n",
       "      <td>313725.0</td>\n",
       "    </tr>\n",
       "    <tr>\n",
       "      <th>73</th>\n",
       "      <td>ping-echo</td>\n",
       "      <td>6.0</td>\n",
       "      <td>No Service Mesh</td>\n",
       "      <td>Baseline</td>\n",
       "      <td>749183.0</td>\n",
       "      <td>73.0</td>\n",
       "      <td>191294.0</td>\n",
       "    </tr>\n",
       "    <tr>\n",
       "      <th>94</th>\n",
       "      <td>ping-echo</td>\n",
       "      <td>6.0</td>\n",
       "      <td>No Service Mesh</td>\n",
       "      <td>Baseline</td>\n",
       "      <td>848985.0</td>\n",
       "      <td>94.0</td>\n",
       "      <td>321268.0</td>\n",
       "    </tr>\n",
       "    <tr>\n",
       "      <th>106</th>\n",
       "      <td>ping-echo</td>\n",
       "      <td>6.0</td>\n",
       "      <td>No Service Mesh</td>\n",
       "      <td>Baseline</td>\n",
       "      <td>752395.0</td>\n",
       "      <td>106.0</td>\n",
       "      <td>274614.0</td>\n",
       "    </tr>\n",
       "    <tr>\n",
       "      <th>...</th>\n",
       "      <td>...</td>\n",
       "      <td>...</td>\n",
       "      <td>...</td>\n",
       "      <td>...</td>\n",
       "      <td>...</td>\n",
       "      <td>...</td>\n",
       "      <td>...</td>\n",
       "    </tr>\n",
       "    <tr>\n",
       "      <th>7868</th>\n",
       "      <td>ping-echo</td>\n",
       "      <td>7.0</td>\n",
       "      <td>Ambient Mesh</td>\n",
       "      <td>Optimization</td>\n",
       "      <td>887965.0</td>\n",
       "      <td>1180.0</td>\n",
       "      <td>336985.0</td>\n",
       "    </tr>\n",
       "    <tr>\n",
       "      <th>8185</th>\n",
       "      <td>ping-echo</td>\n",
       "      <td>7.0</td>\n",
       "      <td>Ambient Mesh</td>\n",
       "      <td>Optimization</td>\n",
       "      <td>991610.0</td>\n",
       "      <td>1497.0</td>\n",
       "      <td>593094.0</td>\n",
       "    </tr>\n",
       "    <tr>\n",
       "      <th>8222</th>\n",
       "      <td>ping-echo</td>\n",
       "      <td>7.0</td>\n",
       "      <td>Ambient Mesh</td>\n",
       "      <td>Optimization</td>\n",
       "      <td>871483.0</td>\n",
       "      <td>1534.0</td>\n",
       "      <td>509145.0</td>\n",
       "    </tr>\n",
       "    <tr>\n",
       "      <th>8288</th>\n",
       "      <td>ping-echo</td>\n",
       "      <td>7.0</td>\n",
       "      <td>Ambient Mesh</td>\n",
       "      <td>Optimization</td>\n",
       "      <td>788791.0</td>\n",
       "      <td>1600.0</td>\n",
       "      <td>243538.0</td>\n",
       "    </tr>\n",
       "    <tr>\n",
       "      <th>8741</th>\n",
       "      <td>ping-echo</td>\n",
       "      <td>7.0</td>\n",
       "      <td>Ambient Mesh</td>\n",
       "      <td>Optimization</td>\n",
       "      <td>752123.0</td>\n",
       "      <td>2053.0</td>\n",
       "      <td>251778.0</td>\n",
       "    </tr>\n",
       "  </tbody>\n",
       "</table>\n",
       "<p>88 rows × 7 columns</p>\n",
       "</div>"
      ],
      "text/plain": [
       "       Workload  Iteration             Mode      Scenario  Latency  Sequence  \\\n",
       "64    ping-echo        6.0  No Service Mesh      Baseline 760287.0      64.0   \n",
       "67    ping-echo        6.0  No Service Mesh      Baseline 774116.0      67.0   \n",
       "73    ping-echo        6.0  No Service Mesh      Baseline 749183.0      73.0   \n",
       "94    ping-echo        6.0  No Service Mesh      Baseline 848985.0      94.0   \n",
       "106   ping-echo        6.0  No Service Mesh      Baseline 752395.0     106.0   \n",
       "...         ...        ...              ...           ...      ...       ...   \n",
       "7868  ping-echo        7.0     Ambient Mesh  Optimization 887965.0    1180.0   \n",
       "8185  ping-echo        7.0     Ambient Mesh  Optimization 991610.0    1497.0   \n",
       "8222  ping-echo        7.0     Ambient Mesh  Optimization 871483.0    1534.0   \n",
       "8288  ping-echo        7.0     Ambient Mesh  Optimization 788791.0    1600.0   \n",
       "8741  ping-echo        7.0     Ambient Mesh  Optimization 752123.0    2053.0   \n",
       "\n",
       "      Latency_diff  \n",
       "64        123409.0  \n",
       "67        313725.0  \n",
       "73        191294.0  \n",
       "94        321268.0  \n",
       "106       274614.0  \n",
       "...            ...  \n",
       "7868      336985.0  \n",
       "8185      593094.0  \n",
       "8222      509145.0  \n",
       "8288      243538.0  \n",
       "8741      251778.0  \n",
       "\n",
       "[88 rows x 7 columns]"
      ]
     },
     "execution_count": 47,
     "metadata": {},
     "output_type": "execute_result"
    }
   ],
   "source": [
    "df[df.Latency > df.Latency.quantile(.99)]"
   ]
  },
  {
   "cell_type": "code",
   "execution_count": 48,
   "id": "aa863f12-2ff7-45a5-b874-5d03bf1ee28f",
   "metadata": {
    "colab": {
     "base_uri": "https://localhost:8080/",
     "height": 955
    },
    "executionInfo": {
     "elapsed": 20837,
     "status": "ok",
     "timestamp": 1680268310573,
     "user": {
      "displayName": "arthur simas",
      "userId": "04073960446793716118"
     },
     "user_tz": 180
    },
    "id": "2a30778c-713b-45da-b829-e3ed41eb770b",
    "outputId": "fdd46a50-134f-4ccc-c903-c39da16e1f14",
    "tags": []
   },
   "outputs": [
    {
     "name": "stdout",
     "output_type": "stream",
     "text": [
      "removed entries > p99 latency diff:\n"
     ]
    },
    {
     "data": {
      "text/html": [
       "<div>\n",
       "<style scoped>\n",
       "    .dataframe tbody tr th:only-of-type {\n",
       "        vertical-align: middle;\n",
       "    }\n",
       "\n",
       "    .dataframe tbody tr th {\n",
       "        vertical-align: top;\n",
       "    }\n",
       "\n",
       "    .dataframe thead th {\n",
       "        text-align: right;\n",
       "    }\n",
       "</style>\n",
       "<table border=\"1\" class=\"dataframe\">\n",
       "  <thead>\n",
       "    <tr style=\"text-align: right;\">\n",
       "      <th></th>\n",
       "      <th></th>\n",
       "      <th>Latency</th>\n",
       "    </tr>\n",
       "    <tr>\n",
       "      <th>Mode</th>\n",
       "      <th>Scenario</th>\n",
       "      <th></th>\n",
       "    </tr>\n",
       "  </thead>\n",
       "  <tbody>\n",
       "    <tr>\n",
       "      <th rowspan=\"2\" valign=\"top\">Ambient Mesh</th>\n",
       "      <th>Baseline</th>\n",
       "      <td>21</td>\n",
       "    </tr>\n",
       "    <tr>\n",
       "      <th>Optimization</th>\n",
       "      <td>32</td>\n",
       "    </tr>\n",
       "    <tr>\n",
       "      <th rowspan=\"2\" valign=\"top\">No Service Mesh</th>\n",
       "      <th>Baseline</th>\n",
       "      <td>21</td>\n",
       "    </tr>\n",
       "    <tr>\n",
       "      <th>Optimization</th>\n",
       "      <td>14</td>\n",
       "    </tr>\n",
       "  </tbody>\n",
       "</table>\n",
       "</div>"
      ],
      "text/plain": [
       "                              Latency\n",
       "Mode            Scenario             \n",
       "Ambient Mesh    Baseline           21\n",
       "                Optimization       32\n",
       "No Service Mesh Baseline           21\n",
       "                Optimization       14"
      ]
     },
     "metadata": {},
     "output_type": "display_data"
    },
    {
     "name": "stdout",
     "output_type": "stream",
     "text": [
      "total\n"
     ]
    },
    {
     "data": {
      "text/html": [
       "<div>\n",
       "<style scoped>\n",
       "    .dataframe tbody tr th:only-of-type {\n",
       "        vertical-align: middle;\n",
       "    }\n",
       "\n",
       "    .dataframe tbody tr th {\n",
       "        vertical-align: top;\n",
       "    }\n",
       "\n",
       "    .dataframe thead th {\n",
       "        text-align: right;\n",
       "    }\n",
       "</style>\n",
       "<table border=\"1\" class=\"dataframe\">\n",
       "  <thead>\n",
       "    <tr style=\"text-align: right;\">\n",
       "      <th></th>\n",
       "      <th></th>\n",
       "      <th>Latency</th>\n",
       "    </tr>\n",
       "    <tr>\n",
       "      <th>Mode</th>\n",
       "      <th>Scenario</th>\n",
       "      <th></th>\n",
       "    </tr>\n",
       "  </thead>\n",
       "  <tbody>\n",
       "    <tr>\n",
       "      <th rowspan=\"2\" valign=\"top\">Ambient Mesh</th>\n",
       "      <th>Baseline</th>\n",
       "      <td>2129</td>\n",
       "    </tr>\n",
       "    <tr>\n",
       "      <th>Optimization</th>\n",
       "      <td>2075</td>\n",
       "    </tr>\n",
       "    <tr>\n",
       "      <th rowspan=\"2\" valign=\"top\">No Service Mesh</th>\n",
       "      <th>Baseline</th>\n",
       "      <td>2413</td>\n",
       "    </tr>\n",
       "    <tr>\n",
       "      <th>Optimization</th>\n",
       "      <td>2146</td>\n",
       "    </tr>\n",
       "  </tbody>\n",
       "</table>\n",
       "</div>"
      ],
      "text/plain": [
       "                              Latency\n",
       "Mode            Scenario             \n",
       "Ambient Mesh    Baseline         2129\n",
       "                Optimization     2075\n",
       "No Service Mesh Baseline         2413\n",
       "                Optimization     2146"
      ]
     },
     "metadata": {},
     "output_type": "display_data"
    }
   ],
   "source": [
    "print('removed entries > p99 latency diff:')\n",
    "display(df.groupby(['Mode', 'Scenario'])[['Latency']].count() - latency_diff_p99.groupby(['Mode', 'Scenario'])[['Latency']].count())\n",
    "\n",
    "print('total')\n",
    "display(df.groupby(['Mode', 'Scenario'])[['Latency']].count())"
   ]
  },
  {
   "cell_type": "code",
   "execution_count": 49,
   "id": "85002a2f-2187-43f5-a64c-c1a77fa4ae9f",
   "metadata": {
    "colab": {
     "base_uri": "https://localhost:8080/",
     "height": 955
    },
    "executionInfo": {
     "elapsed": 20837,
     "status": "ok",
     "timestamp": 1680268310573,
     "user": {
      "displayName": "arthur simas",
      "userId": "04073960446793716118"
     },
     "user_tz": 180
    },
    "id": "2a30778c-713b-45da-b829-e3ed41eb770b",
    "outputId": "fdd46a50-134f-4ccc-c903-c39da16e1f14",
    "tags": []
   },
   "outputs": [
    {
     "data": {
      "text/html": [
       "<div>\n",
       "<style scoped>\n",
       "    .dataframe tbody tr th:only-of-type {\n",
       "        vertical-align: middle;\n",
       "    }\n",
       "\n",
       "    .dataframe tbody tr th {\n",
       "        vertical-align: top;\n",
       "    }\n",
       "\n",
       "    .dataframe thead th {\n",
       "        text-align: right;\n",
       "    }\n",
       "</style>\n",
       "<table border=\"1\" class=\"dataframe\">\n",
       "  <thead>\n",
       "    <tr style=\"text-align: right;\">\n",
       "      <th></th>\n",
       "      <th>Workload</th>\n",
       "      <th>Iteration</th>\n",
       "      <th>Mode</th>\n",
       "      <th>Scenario</th>\n",
       "      <th>Latency</th>\n",
       "      <th>Sequence</th>\n",
       "      <th>Latency_diff</th>\n",
       "    </tr>\n",
       "  </thead>\n",
       "  <tbody>\n",
       "    <tr>\n",
       "      <th>179</th>\n",
       "      <td>ping-echo</td>\n",
       "      <td>6.0</td>\n",
       "      <td>No Service Mesh</td>\n",
       "      <td>Baseline</td>\n",
       "      <td>421559.0</td>\n",
       "      <td>179.0</td>\n",
       "      <td>382797.0</td>\n",
       "    </tr>\n",
       "    <tr>\n",
       "      <th>229</th>\n",
       "      <td>ping-echo</td>\n",
       "      <td>6.0</td>\n",
       "      <td>No Service Mesh</td>\n",
       "      <td>Baseline</td>\n",
       "      <td>248005.0</td>\n",
       "      <td>229.0</td>\n",
       "      <td>439089.0</td>\n",
       "    </tr>\n",
       "    <tr>\n",
       "      <th>546</th>\n",
       "      <td>ping-echo</td>\n",
       "      <td>6.0</td>\n",
       "      <td>No Service Mesh</td>\n",
       "      <td>Baseline</td>\n",
       "      <td>863311.0</td>\n",
       "      <td>546.0</td>\n",
       "      <td>420795.0</td>\n",
       "    </tr>\n",
       "    <tr>\n",
       "      <th>547</th>\n",
       "      <td>ping-echo</td>\n",
       "      <td>6.0</td>\n",
       "      <td>No Service Mesh</td>\n",
       "      <td>Baseline</td>\n",
       "      <td>400611.0</td>\n",
       "      <td>547.0</td>\n",
       "      <td>462700.0</td>\n",
       "    </tr>\n",
       "    <tr>\n",
       "      <th>607</th>\n",
       "      <td>ping-echo</td>\n",
       "      <td>6.0</td>\n",
       "      <td>No Service Mesh</td>\n",
       "      <td>Baseline</td>\n",
       "      <td>899979.0</td>\n",
       "      <td>607.0</td>\n",
       "      <td>433437.0</td>\n",
       "    </tr>\n",
       "    <tr>\n",
       "      <th>...</th>\n",
       "      <td>...</td>\n",
       "      <td>...</td>\n",
       "      <td>...</td>\n",
       "      <td>...</td>\n",
       "      <td>...</td>\n",
       "      <td>...</td>\n",
       "      <td>...</td>\n",
       "    </tr>\n",
       "    <tr>\n",
       "      <th>8370</th>\n",
       "      <td>ping-echo</td>\n",
       "      <td>7.0</td>\n",
       "      <td>Ambient Mesh</td>\n",
       "      <td>Optimization</td>\n",
       "      <td>743673.0</td>\n",
       "      <td>1682.0</td>\n",
       "      <td>516339.0</td>\n",
       "    </tr>\n",
       "    <tr>\n",
       "      <th>8371</th>\n",
       "      <td>ping-echo</td>\n",
       "      <td>7.0</td>\n",
       "      <td>Ambient Mesh</td>\n",
       "      <td>Optimization</td>\n",
       "      <td>266585.0</td>\n",
       "      <td>1683.0</td>\n",
       "      <td>477088.0</td>\n",
       "    </tr>\n",
       "    <tr>\n",
       "      <th>8524</th>\n",
       "      <td>ping-echo</td>\n",
       "      <td>7.0</td>\n",
       "      <td>Ambient Mesh</td>\n",
       "      <td>Optimization</td>\n",
       "      <td>332376.0</td>\n",
       "      <td>1836.0</td>\n",
       "      <td>368275.0</td>\n",
       "    </tr>\n",
       "    <tr>\n",
       "      <th>8742</th>\n",
       "      <td>ping-echo</td>\n",
       "      <td>7.0</td>\n",
       "      <td>Ambient Mesh</td>\n",
       "      <td>Optimization</td>\n",
       "      <td>240534.0</td>\n",
       "      <td>2054.0</td>\n",
       "      <td>511589.0</td>\n",
       "    </tr>\n",
       "    <tr>\n",
       "      <th>8757</th>\n",
       "      <td>ping-echo</td>\n",
       "      <td>7.0</td>\n",
       "      <td>Ambient Mesh</td>\n",
       "      <td>Optimization</td>\n",
       "      <td>715038.0</td>\n",
       "      <td>2069.0</td>\n",
       "      <td>355913.0</td>\n",
       "    </tr>\n",
       "  </tbody>\n",
       "</table>\n",
       "<p>88 rows × 7 columns</p>\n",
       "</div>"
      ],
      "text/plain": [
       "       Workload  Iteration             Mode      Scenario  Latency  Sequence  \\\n",
       "179   ping-echo        6.0  No Service Mesh      Baseline 421559.0     179.0   \n",
       "229   ping-echo        6.0  No Service Mesh      Baseline 248005.0     229.0   \n",
       "546   ping-echo        6.0  No Service Mesh      Baseline 863311.0     546.0   \n",
       "547   ping-echo        6.0  No Service Mesh      Baseline 400611.0     547.0   \n",
       "607   ping-echo        6.0  No Service Mesh      Baseline 899979.0     607.0   \n",
       "...         ...        ...              ...           ...      ...       ...   \n",
       "8370  ping-echo        7.0     Ambient Mesh  Optimization 743673.0    1682.0   \n",
       "8371  ping-echo        7.0     Ambient Mesh  Optimization 266585.0    1683.0   \n",
       "8524  ping-echo        7.0     Ambient Mesh  Optimization 332376.0    1836.0   \n",
       "8742  ping-echo        7.0     Ambient Mesh  Optimization 240534.0    2054.0   \n",
       "8757  ping-echo        7.0     Ambient Mesh  Optimization 715038.0    2069.0   \n",
       "\n",
       "      Latency_diff  \n",
       "179       382797.0  \n",
       "229       439089.0  \n",
       "546       420795.0  \n",
       "547       462700.0  \n",
       "607       433437.0  \n",
       "...            ...  \n",
       "8370      516339.0  \n",
       "8371      477088.0  \n",
       "8524      368275.0  \n",
       "8742      511589.0  \n",
       "8757      355913.0  \n",
       "\n",
       "[88 rows x 7 columns]"
      ]
     },
     "execution_count": 49,
     "metadata": {},
     "output_type": "execute_result"
    }
   ],
   "source": [
    "df[df.Latency_diff > df.Latency_diff.quantile(.99)]"
   ]
  },
  {
   "cell_type": "code",
   "execution_count": 50,
   "id": "7b0926d5-6c4b-4cf8-b1ac-68cbb0b5bd07",
   "metadata": {
    "colab": {
     "base_uri": "https://localhost:8080/",
     "height": 955
    },
    "executionInfo": {
     "elapsed": 20837,
     "status": "ok",
     "timestamp": 1680268310573,
     "user": {
      "displayName": "arthur simas",
      "userId": "04073960446793716118"
     },
     "user_tz": 180
    },
    "id": "2a30778c-713b-45da-b829-e3ed41eb770b",
    "outputId": "fdd46a50-134f-4ccc-c903-c39da16e1f14",
    "tags": []
   },
   "outputs": [],
   "source": [
    "def format_ns(ns, to):\n",
    "    convert_table = {\n",
    "        'ns': 1,\n",
    "        'us': 1 / 1_000,\n",
    "        'ms': 1 / 1_000_000,\n",
    "         's': 1 / 1_000_000_000,\n",
    "    }\n",
    "    number = ns * convert_table[to]\n",
    "    return '{:.{}f}'.format(number, min(count_decimal_places(number, remove_single_zero=True), 6))"
   ]
  },
  {
   "cell_type": "code",
   "execution_count": 61,
   "id": "deb5da23-d9b7-4072-a3cd-214ede77364f",
   "metadata": {
    "tags": []
   },
   "outputs": [
    {
     "data": {
      "image/png": "[encoded data removed]",
      "text/plain": [
       "<Figure size 640x480 with 1 Axes>"
      ]
     },
     "metadata": {},
     "output_type": "display_data"
    }
   ],
   "source": [
    "g = sns.histplot(data=latency_p99, x='Latency', hue='Scenario')\n",
    "\n",
    "g.set_xticks(g.get_xticks())\n",
    "g.set(\n",
    "    #title='Latency -- p99',\n",
    "    xlabel='Latency (µs)',\n",
    "    #ylabel='Type',\n",
    "    xticklabels=[format_ns(tick, 'us') for tick in g.get_xticks()],\n",
    ");"
   ]
  },
  {
   "cell_type": "code",
   "execution_count": 65,
   "id": "11c7a497-322c-4859-a3ea-5401ae44fae0",
   "metadata": {
    "colab": {
     "base_uri": "https://localhost:8080/",
     "height": 955
    },
    "executionInfo": {
     "elapsed": 20837,
     "status": "ok",
     "timestamp": 1680268310573,
     "user": {
      "displayName": "arthur simas",
      "userId": "04073960446793716118"
     },
     "user_tz": 180
    },
    "id": "2a30778c-713b-45da-b829-e3ed41eb770b",
    "outputId": "fdd46a50-134f-4ccc-c903-c39da16e1f14",
    "tags": []
   },
   "outputs": [
    {
     "data": {
      "image/png": "[encoded data removed]",
      "text/plain": [
       "<Figure size 640x480 with 1 Axes>"
      ]
     },
     "metadata": {},
     "output_type": "display_data"
    }
   ],
   "source": [
    "g = sns.violinplot(data=latency_p99, x='Latency', y='Mode', split=True, hue='Scenario', inner='quart', cut=0)\n",
    "\n",
    "g.set_xticks(g.get_xticks())\n",
    "g.set(\n",
    "    #title='Latency -- p99',\n",
    "    xlabel='Latency (µs)',\n",
    "    #ylabel='Type',\n",
    "    xticklabels=[format_ns(tick, 'us') for tick in g.get_xticks()],\n",
    ");\n",
    "\n",
    "g.figure.savefig('ping-echo-violinplot-latency.svg', bbox_inches='tight')"
   ]
  },
  {
   "cell_type": "code",
   "execution_count": 63,
   "id": "0bee3314-cca4-403a-ae0d-74bbe9141803",
   "metadata": {
    "tags": []
   },
   "outputs": [
    {
     "data": {
      "image/png": "[encoded data removed]",
      "text/plain": [
       "<Figure size 640x480 with 1 Axes>"
      ]
     },
     "metadata": {},
     "output_type": "display_data"
    }
   ],
   "source": [
    "latency_outliers = df[df.Latency > df.Latency.quantile(.99)]\n",
    "g = sns.scatterplot(data=latency_outliers, x='Sequence', y='Latency', hue='Scenario', style='Mode')\n",
    "\n",
    "g.axhline(y=df.Latency.quantile(.99), linewidth=1.5, color='gray', ls=':')\n",
    "g.text(-150, df.Latency.quantile(.99), f\"p99 = {format_ns(df.Latency.quantile(.99), 'ms')}\", va='center', ha='right')\n",
    "\n",
    "g.set_yticks(g.get_yticks())\n",
    "g.set(\n",
    "    #title='Latency -- >p99',\n",
    "    ylabel='Latency (ms)',\n",
    "    #xlabel='Sequence',\n",
    "    yticklabels=[format_ns(tick, 'ms') for tick in g.get_yticks()],\n",
    ");\n",
    "\n",
    "g.figure.savefig('ping-echo-lineplot-latency-spikes.svg', bbox_inches='tight')"
   ]
  },
  {
   "cell_type": "code",
   "execution_count": 64,
   "id": "3625cf8b-47ea-4c40-b4df-225992e21017",
   "metadata": {
    "tags": []
   },
   "outputs": [
    {
     "data": {
      "image/png": "[encoded data removed]",
      "text/plain": [
       "<Figure size 640x480 with 1 Axes>"
      ]
     },
     "metadata": {},
     "output_type": "display_data"
    }
   ],
   "source": [
    "g = sns.violinplot(data=latency_diff_p99, x='Latency_diff', y='Mode', split=True, hue='Scenario', inner='quart', cut=0)\n",
    "\n",
    "g.set_xticks(g.get_xticks())\n",
    "g.set(\n",
    "    #title='Latency -- p99',\n",
    "    xlabel='Latency variation (µs)',\n",
    "    #ylabel='Type',\n",
    "    xticklabels=[format_ns(tick, 'us') for tick in g.get_xticks()],\n",
    ");\n",
    "\n",
    "g.figure.savefig('ping-echo-violinplot-jitter.svg', bbox_inches='tight')"
   ]
  },
  {
   "cell_type": "code",
   "execution_count": 67,
   "id": "3b6c7ab0-2974-4c22-8d38-c811052e1c80",
   "metadata": {
    "tags": []
   },
   "outputs": [
    {
     "data": {
      "text/plain": [
       "(np.float64(80861.11433578489), np.float64(83247.87771170317))"
      ]
     },
     "execution_count": 67,
     "metadata": {},
     "output_type": "execute_result"
    }
   ],
   "source": [
    "jitter['No Service Mesh'].Optimization , jitter['No Service Mesh'].Baseline"
   ]
  },
  {
   "cell_type": "code",
   "execution_count": null,
   "id": "292ee9d2-8b5a-4d22-9ce9-ab8f955602c7",
   "metadata": {},
   "outputs": [],
   "source": []
  }
 ],
 "metadata": {
  "colab": {
   "provenance": []
  },
  "kernelspec": {
   "display_name": "Python 3 (ipykernel)",
   "language": "python",
   "name": "python3"
  },
  "language_info": {
   "codemirror_mode": {
    "name": "ipython",
    "version": 3
   },
   "file_extension": ".py",
   "mimetype": "text/x-python",
   "name": "python",
   "nbconvert_exporter": "python",
   "pygments_lexer": "ipython3",
   "version": "3.12.8"
  }
 },
 "nbformat": 4,
 "nbformat_minor": 5
}
